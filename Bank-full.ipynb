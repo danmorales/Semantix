{
 "cells": [
  {
   "cell_type": "code",
   "execution_count": 1,
   "metadata": {},
   "outputs": [],
   "source": [
    "#Importando bibliotecas fundamentais para análise\n",
    "import numpy as np\n",
    "import pandas as pd\n",
    "import matplotlib.pyplot as plt\n",
    "import matplotlib.ticker as ticker\n",
    "import seaborn as sns\n",
    "import warnings\n",
    "warnings.filterwarnings('ignore')"
   ]
  },
  {
   "cell_type": "code",
   "execution_count": 2,
   "metadata": {},
   "outputs": [],
   "source": [
    "#Lendo arquivo CSV bank.csv\n",
    "bank = pd.read_csv('bank-full.csv',sep=\";\")"
   ]
  },
  {
   "cell_type": "code",
   "execution_count": 3,
   "metadata": {},
   "outputs": [
    {
     "name": "stdout",
     "output_type": "stream",
     "text": [
      "Linhas: 45211 Colunas 17\n"
     ]
    }
   ],
   "source": [
    "#Determinando número de linhas e colunas do DataFrame\n",
    "linhas = bank.shape[0]\n",
    "colunas = bank.shape[1]\n",
    "print(\"Linhas: {} Colunas {}\".format(linhas,colunas))"
   ]
  },
  {
   "cell_type": "code",
   "execution_count": 4,
   "metadata": {},
   "outputs": [
    {
     "name": "stdout",
     "output_type": "stream",
     "text": [
      "['age' 'job' 'marital' 'education' 'default' 'balance' 'housing' 'loan'\n",
      " 'contact' 'day' 'month' 'duration' 'campaign' 'pdays' 'previous'\n",
      " 'poutcome' 'y']\n"
     ]
    }
   ],
   "source": [
    "#Determinando nomes das colunas\n",
    "nome_colunas = bank.columns.values\n",
    "print(nome_colunas)"
   ]
  },
  {
   "cell_type": "code",
   "execution_count": 5,
   "metadata": {},
   "outputs": [
    {
     "name": "stdout",
     "output_type": "stream",
     "text": [
      "age           int64\n",
      "job          object\n",
      "marital      object\n",
      "education    object\n",
      "default      object\n",
      "balance       int64\n",
      "housing      object\n",
      "loan         object\n",
      "contact      object\n",
      "day           int64\n",
      "month        object\n",
      "duration      int64\n",
      "campaign      int64\n",
      "pdays         int64\n",
      "previous      int64\n",
      "poutcome     object\n",
      "y            object\n",
      "dtype: object\n"
     ]
    }
   ],
   "source": [
    "#Determinando o tipo de váriavel das colunas\n",
    "tipo_var_colunas = bank.dtypes\n",
    "print(tipo_var_colunas)"
   ]
  },
  {
   "cell_type": "code",
   "execution_count": 6,
   "metadata": {},
   "outputs": [
    {
     "name": "stdout",
     "output_type": "stream",
     "text": [
      "age          0\n",
      "job          0\n",
      "marital      0\n",
      "education    0\n",
      "default      0\n",
      "balance      0\n",
      "housing      0\n",
      "loan         0\n",
      "contact      0\n",
      "day          0\n",
      "month        0\n",
      "duration     0\n",
      "campaign     0\n",
      "pdays        0\n",
      "previous     0\n",
      "poutcome     0\n",
      "y            0\n",
      "dtype: int64\n"
     ]
    }
   ],
   "source": [
    "#Verificando se existem NaNs no dataframe\n",
    "n_nans = bank[bank.isna()].count()\n",
    "print(n_nans)"
   ]
  },
  {
   "cell_type": "code",
   "execution_count": 7,
   "metadata": {},
   "outputs": [
    {
     "name": "stdout",
     "output_type": "stream",
     "text": [
      "<class 'pandas.core.frame.DataFrame'>\n",
      "RangeIndex: 45211 entries, 0 to 45210\n",
      "Data columns (total 17 columns):\n",
      "age          45211 non-null int64\n",
      "job          45211 non-null object\n",
      "marital      45211 non-null object\n",
      "education    45211 non-null object\n",
      "default      45211 non-null object\n",
      "balance      45211 non-null int64\n",
      "housing      45211 non-null object\n",
      "loan         45211 non-null object\n",
      "contact      45211 non-null object\n",
      "day          45211 non-null int64\n",
      "month        45211 non-null object\n",
      "duration     45211 non-null int64\n",
      "campaign     45211 non-null int64\n",
      "pdays        45211 non-null int64\n",
      "previous     45211 non-null int64\n",
      "poutcome     45211 non-null object\n",
      "y            45211 non-null object\n",
      "dtypes: int64(7), object(10)\n",
      "memory usage: 5.9+ MB\n",
      "None\n"
     ]
    }
   ],
   "source": [
    "#Exibindo informações sobre o dado\n",
    "print(bank.info())"
   ]
  },
  {
   "cell_type": "code",
   "execution_count": 8,
   "metadata": {},
   "outputs": [
    {
     "name": "stdout",
     "output_type": "stream",
     "text": [
      "   age           job  marital  education default  balance housing loan  \\\n",
      "0   58    management  married   tertiary      no     2143     yes   no   \n",
      "1   44    technician   single  secondary      no       29     yes   no   \n",
      "2   33  entrepreneur  married  secondary      no        2     yes  yes   \n",
      "3   47   blue-collar  married    unknown      no     1506     yes   no   \n",
      "4   33       unknown   single    unknown      no        1      no   no   \n",
      "\n",
      "   contact  day month  duration  campaign  pdays  previous poutcome   y  \n",
      "0  unknown    5   may       261         1     -1         0  unknown  no  \n",
      "1  unknown    5   may       151         1     -1         0  unknown  no  \n",
      "2  unknown    5   may        76         1     -1         0  unknown  no  \n",
      "3  unknown    5   may        92         1     -1         0  unknown  no  \n",
      "4  unknown    5   may       198         1     -1         0  unknown  no  \n"
     ]
    }
   ],
   "source": [
    "#Exibindo cinco primeiras linhas\n",
    "print(bank.head())"
   ]
  },
  {
   "cell_type": "markdown",
   "metadata": {},
   "source": [
    "Criando um novo DataFrame apenas com informações sobre os clientes"
   ]
  },
  {
   "cell_type": "code",
   "execution_count": 9,
   "metadata": {},
   "outputs": [
    {
     "name": "stdout",
     "output_type": "stream",
     "text": [
      "   age           job  marital  education default housing loan   y\n",
      "0   58    management  married   tertiary      no     yes   no  no\n",
      "1   44    technician   single  secondary      no     yes   no  no\n",
      "2   33  entrepreneur  married  secondary      no     yes  yes  no\n",
      "3   47   blue-collar  married    unknown      no     yes   no  no\n",
      "4   33       unknown   single    unknown      no      no   no  no\n"
     ]
    }
   ],
   "source": [
    "coluna_clientes = [\"age\",\"job\",\"marital\",\"education\",\"default\",\"housing\",\"loan\",\"y\"]\n",
    "clientes = bank[coluna_clientes]\n",
    "print(clientes.head())"
   ]
  },
  {
   "cell_type": "markdown",
   "metadata": {},
   "source": [
    "Vamos agora analisar as variáves categóricas para determinar se eles possuem informações relevantes para a análise do problema"
   ]
  },
  {
   "cell_type": "code",
   "execution_count": 11,
   "metadata": {},
   "outputs": [
    {
     "name": "stdout",
     "output_type": "stream",
     "text": [
      "['management' 'technician' 'entrepreneur' 'blue-collar' 'unknown'\n",
      " 'retired' 'admin.' 'services' 'self-employed' 'unemployed' 'housemaid'\n",
      " 'student']\n"
     ]
    }
   ],
   "source": [
    "#Determinando as profissões\n",
    "jobs = clientes['job'].unique()\n",
    "print(jobs)"
   ]
  },
  {
   "cell_type": "code",
   "execution_count": 12,
   "metadata": {},
   "outputs": [
    {
     "name": "stdout",
     "output_type": "stream",
     "text": [
      "['married' 'single' 'divorced']\n"
     ]
    }
   ],
   "source": [
    "#Determinando os estados civis possiveis dos clientes\n",
    "estado_civil = clientes['marital'].unique()\n",
    "print(estado_civil)"
   ]
  },
  {
   "cell_type": "code",
   "execution_count": 13,
   "metadata": {},
   "outputs": [
    {
     "name": "stdout",
     "output_type": "stream",
     "text": [
      "['tertiary' 'secondary' 'unknown' 'primary']\n"
     ]
    }
   ],
   "source": [
    "#Determinando o grau de estudo dos clientes\n",
    "educacao = clientes['education'].unique()\n",
    "print(educacao)"
   ]
  },
  {
   "cell_type": "code",
   "execution_count": 14,
   "metadata": {},
   "outputs": [
    {
     "name": "stdout",
     "output_type": "stream",
     "text": [
      "['no' 'yes']\n"
     ]
    }
   ],
   "source": [
    "#Determinando as possibilidades para saber se o cliente tem crédito ou não\n",
    "credito = clientes['default'].unique()\n",
    "print(credito)"
   ]
  },
  {
   "cell_type": "code",
   "execution_count": 15,
   "metadata": {},
   "outputs": [
    {
     "name": "stdout",
     "output_type": "stream",
     "text": [
      "['yes' 'no']\n"
     ]
    }
   ],
   "source": [
    "#Determinando as possibilidades para saber se o cliente tem casa ou não\n",
    "credito = clientes['housing'].unique()\n",
    "print(credito)"
   ]
  },
  {
   "cell_type": "code",
   "execution_count": 16,
   "metadata": {},
   "outputs": [
    {
     "name": "stdout",
     "output_type": "stream",
     "text": [
      "['no' 'yes']\n"
     ]
    }
   ],
   "source": [
    "#Determinando as possibilidades para saber se o cliente tem empréstimo pessoal ou não\n",
    "loan = clientes['loan'].unique()\n",
    "print(loan)"
   ]
  },
  {
   "cell_type": "markdown",
   "metadata": {},
   "source": [
    "Estudando a distribuição de idades"
   ]
  },
  {
   "cell_type": "code",
   "execution_count": 17,
   "metadata": {},
   "outputs": [
    {
     "name": "stdout",
     "output_type": "stream",
     "text": [
      "Idade miníma 18\n",
      "Idade máxima 95\n",
      "Idade média 40.9\n",
      "Desvio padrão da idade 10.6\n"
     ]
    }
   ],
   "source": [
    "idade = clientes['age']\n",
    "idade_min = idade.min()\n",
    "idade_max = idade.max()\n",
    "idade_mean = idade.mean()\n",
    "idade_std = idade.std()\n",
    "print(\"Idade miníma {:0.0f}\".format(idade_min))\n",
    "print(\"Idade máxima {:0.0f}\".format(idade_max))\n",
    "print(\"Idade média {:0.1f}\".format(idade_mean))\n",
    "print(\"Desvio padrão da idade {:0.1f}\".format(idade_std))"
   ]
  },
  {
   "cell_type": "markdown",
   "metadata": {},
   "source": [
    "Graficando a distribuição de idades"
   ]
  },
  {
   "cell_type": "code",
   "execution_count": 18,
   "metadata": {},
   "outputs": [
    {
     "data": {
      "image/png": "[encoded data removed]",
      "text/plain": [
       "<Figure size 1440x576 with 1 Axes>"
      ]
     },
     "metadata": {
      "needs_background": "light"
     },
     "output_type": "display_data"
    }
   ],
   "source": [
    "fig,ax = plt.subplots()\n",
    "fig.set_size_inches(20, 8)\n",
    "sns.countplot(x = 'age', data = clientes)\n",
    "ax.set_xlabel('Idade', fontsize=15)\n",
    "ax.set_ylabel('Contagem', fontsize=15)\n",
    "ax.set_title('Distribuição de idade', fontsize=15)\n",
    "plt.tight_layout()"
   ]
  },
  {
   "cell_type": "markdown",
   "metadata": {},
   "source": [
    "Box plot da distribuição de idades para localizarmos outliers"
   ]
  },
  {
   "cell_type": "code",
   "execution_count": 19,
   "metadata": {},
   "outputs": [
    {
     "data": {
      "image/png": "[encoded data removed]",
      "text/plain": [
       "<Figure size 576x360 with 1 Axes>"
      ]
     },
     "metadata": {
      "needs_background": "light"
     },
     "output_type": "display_data"
    }
   ],
   "source": [
    "fig, ax = plt.subplots(figsize = (8, 5))\n",
    "sns.boxplot(x = 'age', data = clientes, orient = 'v', ax = ax)\n",
    "ax.set_ylabel('Idades', fontsize=15)\n",
    "ax.set_title('Distribuição de idades', fontsize=15)\n",
    "ax.tick_params(labelsize=15)\n",
    "plt.tight_layout() "
   ]
  },
  {
   "cell_type": "markdown",
   "metadata": {},
   "source": [
    "Determinando valores dos quartis para detectarmos a partir de qual idade temos outliers"
   ]
  },
  {
   "cell_type": "code",
   "execution_count": 20,
   "metadata": {},
   "outputs": [
    {
     "name": "stdout",
     "output_type": "stream",
     "text": [
      "Primeiro quartil = 33.0\n",
      "Segundo quartil = 39.0\n",
      "Terceiro quartil = 48.0\n",
      "Quarto quartil = 95.0\n",
      "Outliers = 70.5\n"
     ]
    }
   ],
   "source": [
    "q1 = clientes['age'].quantile(q = 0.25)\n",
    "q2 = clientes['age'].quantile(q = 0.50)\n",
    "q3 = clientes['age'].quantile(q = 0.75)\n",
    "q4 = clientes['age'].quantile(q = 1.00)\n",
    "outliers = q3 + 1.5*(q3-q1)\n",
    "print(\"Primeiro quartil = {:0.1f}\".format(q1))\n",
    "print(\"Segundo quartil = {:0.1f}\".format(q2))\n",
    "print(\"Terceiro quartil = {:0.1f}\".format(q3))\n",
    "print(\"Quarto quartil = {:0.1f}\".format(q4))\n",
    "print(\"Outliers = {:0.1f}\".format(outliers))"
   ]
  },
  {
   "cell_type": "markdown",
   "metadata": {},
   "source": [
    "Idades acima de 73 anos são outliers"
   ]
  },
  {
   "cell_type": "code",
   "execution_count": 21,
   "metadata": {},
   "outputs": [
    {
     "name": "stdout",
     "output_type": "stream",
     "text": [
      "Numero de outliers = 487\n",
      "Numero de outliers = 1.08 %\n"
     ]
    }
   ],
   "source": [
    "num_outliers = clientes[clientes['age'] > outliers]['age'].count()\n",
    "print(\"Numero de outliers = {:0.0f}\".format(num_outliers))\n",
    "perc_num_outliers = 100.0*num_outliers/len(clientes)\n",
    "print(\"Numero de outliers = {:0.2f} %\".format(perc_num_outliers))"
   ]
  },
  {
   "cell_type": "markdown",
   "metadata": {},
   "source": [
    "Graficando a distribuição de profissões"
   ]
  },
  {
   "cell_type": "code",
   "execution_count": 22,
   "metadata": {},
   "outputs": [
    {
     "data": {
      "image/png": "[encoded data removed]",
      "text/plain": [
       "<Figure size 1440x576 with 1 Axes>"
      ]
     },
     "metadata": {
      "needs_background": "light"
     },
     "output_type": "display_data"
    }
   ],
   "source": [
    "fig,ax = plt.subplots()\n",
    "fig.set_size_inches(20, 8)\n",
    "sns.countplot(x = 'job', data = clientes, hue='y')\n",
    "ax.set_xlabel('Profissão', fontsize=15)\n",
    "ax.set_ylabel('Contagem', fontsize=15)\n",
    "ax.set_title('Distribuição de profissão', fontsize=15)\n",
    "plt.tight_layout()"
   ]
  },
  {
   "cell_type": "markdown",
   "metadata": {},
   "source": [
    "Analisando o estado civil dos clientes"
   ]
  },
  {
   "cell_type": "code",
   "execution_count": 23,
   "metadata": {},
   "outputs": [
    {
     "data": {
      "image/png": "[encoded data removed]",
      "text/plain": [
       "<Figure size 1440x576 with 1 Axes>"
      ]
     },
     "metadata": {
      "needs_background": "light"
     },
     "output_type": "display_data"
    }
   ],
   "source": [
    "fig,ax = plt.subplots()\n",
    "fig.set_size_inches(20, 8)\n",
    "sns.countplot(x = 'marital', data = clientes, hue='y')\n",
    "ax.set_xlabel('Estado civil', fontsize=15)\n",
    "ax.set_ylabel('Contagem', fontsize=15)\n",
    "ax.set_title('Distribuição de estado cívil', fontsize=15)\n",
    "plt.tight_layout()"
   ]
  },
  {
   "cell_type": "markdown",
   "metadata": {},
   "source": [
    "Analisando a distribuição de educação"
   ]
  },
  {
   "cell_type": "code",
   "execution_count": 24,
   "metadata": {},
   "outputs": [
    {
     "data": {
      "image/png": "[encoded data removed]",
      "text/plain": [
       "<Figure size 1440x576 with 1 Axes>"
      ]
     },
     "metadata": {
      "needs_background": "light"
     },
     "output_type": "display_data"
    }
   ],
   "source": [
    "fig,ax = plt.subplots()\n",
    "fig.set_size_inches(20, 8)\n",
    "sns.countplot(x = 'education', data = clientes, hue='y')\n",
    "ax.set_xlabel('Educação', fontsize=15)\n",
    "ax.set_ylabel('Contagem', fontsize=15)\n",
    "ax.set_title('Distribuição de educação', fontsize=15)\n",
    "plt.tight_layout()"
   ]
  },
  {
   "cell_type": "markdown",
   "metadata": {},
   "source": [
    "Analisando o perfil de crédito"
   ]
  },
  {
   "cell_type": "code",
   "execution_count": 25,
   "metadata": {},
   "outputs": [
    {
     "data": {
      "image/png": "[encoded data removed]",
      "text/plain": [
       "<Figure size 1440x576 with 1 Axes>"
      ]
     },
     "metadata": {
      "needs_background": "light"
     },
     "output_type": "display_data"
    }
   ],
   "source": [
    "fig,ax = plt.subplots()\n",
    "fig.set_size_inches(20, 8)\n",
    "sns.countplot(x = 'default', data = clientes, hue='y')\n",
    "ax.set_xlabel('Credito inicial', fontsize=15)\n",
    "ax.set_ylabel('Contagem', fontsize=15)\n",
    "ax.set_title('Distribuição de credito', fontsize=15)\n",
    "plt.tight_layout()"
   ]
  },
  {
   "cell_type": "markdown",
   "metadata": {},
   "source": [
    "Analisando o perfil de cliente que tem ou não casa"
   ]
  },
  {
   "cell_type": "code",
   "execution_count": 83,
   "metadata": {},
   "outputs": [
    {
     "ename": "ValueError",
     "evalue": "Could not interpret input 'y'",
     "output_type": "error",
     "traceback": [
      "\u001b[0;31m---------------------------------------------------------------------------\u001b[0m",
      "\u001b[0;31mValueError\u001b[0m                                Traceback (most recent call last)",
      "\u001b[0;32m<ipython-input-83-cc2f80b51ac0>\u001b[0m in \u001b[0;36m<module>\u001b[0;34m\u001b[0m\n\u001b[1;32m      1\u001b[0m \u001b[0mfig\u001b[0m\u001b[0;34m,\u001b[0m\u001b[0max\u001b[0m \u001b[0;34m=\u001b[0m \u001b[0mplt\u001b[0m\u001b[0;34m.\u001b[0m\u001b[0msubplots\u001b[0m\u001b[0;34m(\u001b[0m\u001b[0;34m)\u001b[0m\u001b[0;34m\u001b[0m\u001b[0;34m\u001b[0m\u001b[0m\n\u001b[1;32m      2\u001b[0m \u001b[0mfig\u001b[0m\u001b[0;34m.\u001b[0m\u001b[0mset_size_inches\u001b[0m\u001b[0;34m(\u001b[0m\u001b[0;36m20\u001b[0m\u001b[0;34m,\u001b[0m \u001b[0;36m8\u001b[0m\u001b[0;34m)\u001b[0m\u001b[0;34m\u001b[0m\u001b[0;34m\u001b[0m\u001b[0m\n\u001b[0;32m----> 3\u001b[0;31m \u001b[0msns\u001b[0m\u001b[0;34m.\u001b[0m\u001b[0mcountplot\u001b[0m\u001b[0;34m(\u001b[0m\u001b[0mx\u001b[0m \u001b[0;34m=\u001b[0m \u001b[0;34m'housing'\u001b[0m\u001b[0;34m,\u001b[0m \u001b[0mdata\u001b[0m \u001b[0;34m=\u001b[0m \u001b[0mclientes\u001b[0m\u001b[0;34m,\u001b[0m \u001b[0mhue\u001b[0m\u001b[0;34m=\u001b[0m\u001b[0;34m'y'\u001b[0m\u001b[0;34m)\u001b[0m\u001b[0;34m\u001b[0m\u001b[0;34m\u001b[0m\u001b[0m\n\u001b[0m\u001b[1;32m      4\u001b[0m \u001b[0max\u001b[0m\u001b[0;34m.\u001b[0m\u001b[0mset_xlabel\u001b[0m\u001b[0;34m(\u001b[0m\u001b[0;34m'Possui casa'\u001b[0m\u001b[0;34m,\u001b[0m \u001b[0mfontsize\u001b[0m\u001b[0;34m=\u001b[0m\u001b[0;36m15\u001b[0m\u001b[0;34m)\u001b[0m\u001b[0;34m\u001b[0m\u001b[0;34m\u001b[0m\u001b[0m\n\u001b[1;32m      5\u001b[0m \u001b[0max\u001b[0m\u001b[0;34m.\u001b[0m\u001b[0mset_ylabel\u001b[0m\u001b[0;34m(\u001b[0m\u001b[0;34m'Contagem'\u001b[0m\u001b[0;34m,\u001b[0m \u001b[0mfontsize\u001b[0m\u001b[0;34m=\u001b[0m\u001b[0;36m15\u001b[0m\u001b[0;34m)\u001b[0m\u001b[0;34m\u001b[0m\u001b[0;34m\u001b[0m\u001b[0m\n",
      "\u001b[0;32m/anaconda3/lib/python3.7/site-packages/seaborn/categorical.py\u001b[0m in \u001b[0;36mcountplot\u001b[0;34m(x, y, hue, data, order, hue_order, orient, color, palette, saturation, dodge, ax, **kwargs)\u001b[0m\n\u001b[1;32m   3551\u001b[0m                           \u001b[0mestimator\u001b[0m\u001b[0;34m,\u001b[0m \u001b[0mci\u001b[0m\u001b[0;34m,\u001b[0m \u001b[0mn_boot\u001b[0m\u001b[0;34m,\u001b[0m \u001b[0munits\u001b[0m\u001b[0;34m,\u001b[0m\u001b[0;34m\u001b[0m\u001b[0;34m\u001b[0m\u001b[0m\n\u001b[1;32m   3552\u001b[0m                           \u001b[0morient\u001b[0m\u001b[0;34m,\u001b[0m \u001b[0mcolor\u001b[0m\u001b[0;34m,\u001b[0m \u001b[0mpalette\u001b[0m\u001b[0;34m,\u001b[0m \u001b[0msaturation\u001b[0m\u001b[0;34m,\u001b[0m\u001b[0;34m\u001b[0m\u001b[0;34m\u001b[0m\u001b[0m\n\u001b[0;32m-> 3553\u001b[0;31m                           errcolor, errwidth, capsize, dodge)\n\u001b[0m\u001b[1;32m   3554\u001b[0m \u001b[0;34m\u001b[0m\u001b[0m\n\u001b[1;32m   3555\u001b[0m     \u001b[0mplotter\u001b[0m\u001b[0;34m.\u001b[0m\u001b[0mvalue_label\u001b[0m \u001b[0;34m=\u001b[0m \u001b[0;34m\"count\"\u001b[0m\u001b[0;34m\u001b[0m\u001b[0;34m\u001b[0m\u001b[0m\n",
      "\u001b[0;32m/anaconda3/lib/python3.7/site-packages/seaborn/categorical.py\u001b[0m in \u001b[0;36m__init__\u001b[0;34m(self, x, y, hue, data, order, hue_order, estimator, ci, n_boot, units, orient, color, palette, saturation, errcolor, errwidth, capsize, dodge)\u001b[0m\n\u001b[1;32m   1605\u001b[0m         \u001b[0;34m\"\"\"Initialize the plotter.\"\"\"\u001b[0m\u001b[0;34m\u001b[0m\u001b[0;34m\u001b[0m\u001b[0m\n\u001b[1;32m   1606\u001b[0m         self.establish_variables(x, y, hue, data, orient,\n\u001b[0;32m-> 1607\u001b[0;31m                                  order, hue_order, units)\n\u001b[0m\u001b[1;32m   1608\u001b[0m         \u001b[0mself\u001b[0m\u001b[0;34m.\u001b[0m\u001b[0mestablish_colors\u001b[0m\u001b[0;34m(\u001b[0m\u001b[0mcolor\u001b[0m\u001b[0;34m,\u001b[0m \u001b[0mpalette\u001b[0m\u001b[0;34m,\u001b[0m \u001b[0msaturation\u001b[0m\u001b[0;34m)\u001b[0m\u001b[0;34m\u001b[0m\u001b[0;34m\u001b[0m\u001b[0m\n\u001b[1;32m   1609\u001b[0m         \u001b[0mself\u001b[0m\u001b[0;34m.\u001b[0m\u001b[0mestimate_statistic\u001b[0m\u001b[0;34m(\u001b[0m\u001b[0mestimator\u001b[0m\u001b[0;34m,\u001b[0m \u001b[0mci\u001b[0m\u001b[0;34m,\u001b[0m \u001b[0mn_boot\u001b[0m\u001b[0;34m)\u001b[0m\u001b[0;34m\u001b[0m\u001b[0;34m\u001b[0m\u001b[0m\n",
      "\u001b[0;32m/anaconda3/lib/python3.7/site-packages/seaborn/categorical.py\u001b[0m in \u001b[0;36mestablish_variables\u001b[0;34m(self, x, y, hue, data, orient, order, hue_order, units)\u001b[0m\n\u001b[1;32m    153\u001b[0m                 \u001b[0;32mif\u001b[0m \u001b[0misinstance\u001b[0m\u001b[0;34m(\u001b[0m\u001b[0minput\u001b[0m\u001b[0;34m,\u001b[0m \u001b[0mstring_types\u001b[0m\u001b[0;34m)\u001b[0m\u001b[0;34m:\u001b[0m\u001b[0;34m\u001b[0m\u001b[0;34m\u001b[0m\u001b[0m\n\u001b[1;32m    154\u001b[0m                     \u001b[0merr\u001b[0m \u001b[0;34m=\u001b[0m \u001b[0;34m\"Could not interpret input '{}'\"\u001b[0m\u001b[0;34m.\u001b[0m\u001b[0mformat\u001b[0m\u001b[0;34m(\u001b[0m\u001b[0minput\u001b[0m\u001b[0;34m)\u001b[0m\u001b[0;34m\u001b[0m\u001b[0;34m\u001b[0m\u001b[0m\n\u001b[0;32m--> 155\u001b[0;31m                     \u001b[0;32mraise\u001b[0m \u001b[0mValueError\u001b[0m\u001b[0;34m(\u001b[0m\u001b[0merr\u001b[0m\u001b[0;34m)\u001b[0m\u001b[0;34m\u001b[0m\u001b[0;34m\u001b[0m\u001b[0m\n\u001b[0m\u001b[1;32m    156\u001b[0m \u001b[0;34m\u001b[0m\u001b[0m\n\u001b[1;32m    157\u001b[0m             \u001b[0;31m# Figure out the plotting orientation\u001b[0m\u001b[0;34m\u001b[0m\u001b[0;34m\u001b[0m\u001b[0;34m\u001b[0m\u001b[0m\n",
      "\u001b[0;31mValueError\u001b[0m: Could not interpret input 'y'"
     ]
    },
    {
     "data": {
      "image/png": "[encoded data removed]",
      "text/plain": [
       "<Figure size 1440x576 with 1 Axes>"
      ]
     },
     "metadata": {
      "needs_background": "light"
     },
     "output_type": "display_data"
    }
   ],
   "source": [
    "fig,ax = plt.subplots()\n",
    "fig.set_size_inches(20, 8)\n",
    "sns.countplot(x = 'housing', data = clientes, hue='y')\n",
    "ax.set_xlabel('Possui casa', fontsize=15)\n",
    "ax.set_ylabel('Contagem', fontsize=15)\n",
    "ax.set_title('Distribuição imóvel', fontsize=15)\n",
    "plt.tight_layout()"
   ]
  },
  {
   "cell_type": "markdown",
   "metadata": {},
   "source": [
    "Analisando o perfil de clientes que já tem ou não emprestimo"
   ]
  },
  {
   "cell_type": "code",
   "execution_count": 27,
   "metadata": {},
   "outputs": [
    {
     "data": {
      "image/png": "[encoded data removed]",
      "text/plain": [
       "<Figure size 1440x576 with 1 Axes>"
      ]
     },
     "metadata": {
      "needs_background": "light"
     },
     "output_type": "display_data"
    }
   ],
   "source": [
    "fig,ax = plt.subplots()\n",
    "fig.set_size_inches(20, 8)\n",
    "sns.countplot(x = 'loan', data = clientes, hue='y')\n",
    "ax.set_xlabel('Empréstimo', fontsize=15)\n",
    "ax.set_ylabel('Contagem', fontsize=15)\n",
    "ax.set_title('Distribuição de empréstimo', fontsize=15)\n",
    "plt.tight_layout()"
   ]
  },
  {
   "cell_type": "markdown",
   "metadata": {},
   "source": [
    "Convertendo variáveis categóricas, presentes no DataFrame Clientes, para valores numéricos"
   ]
  },
  {
   "cell_type": "code",
   "execution_count": 28,
   "metadata": {},
   "outputs": [],
   "source": [
    "from sklearn.preprocessing import LabelEncoder\n",
    "enconder = LabelEncoder()"
   ]
  },
  {
   "cell_type": "code",
   "execution_count": 29,
   "metadata": {},
   "outputs": [],
   "source": [
    "clientes['job']      = enconder.fit_transform(clientes['job']) \n",
    "clientes['marital']  = enconder.fit_transform(clientes['marital']) \n",
    "clientes['education']= enconder.fit_transform(clientes['education']) \n",
    "clientes['default']  = enconder.fit_transform(clientes['default']) \n",
    "clientes['housing']  = enconder.fit_transform(clientes['housing']) \n",
    "clientes['loan']     = enconder.fit_transform(clientes['loan']) \n",
    "clientes['y']        = enconder.fit_transform(clientes['y']) "
   ]
  },
  {
   "cell_type": "code",
   "execution_count": 30,
   "metadata": {},
   "outputs": [
    {
     "name": "stdout",
     "output_type": "stream",
     "text": [
      "   age  job  marital  education  default  housing  loan  y\n",
      "0   58    4        1          2        0        1     0  0\n",
      "1   44    9        2          1        0        1     0  0\n",
      "2   33    2        1          1        0        1     1  0\n",
      "3   47    1        1          3        0        1     0  0\n",
      "4   33   11        2          3        0        0     0  0\n"
     ]
    }
   ],
   "source": [
    "#Verificando se a conversão foi bem sucessida\n",
    "print(clientes.head())"
   ]
  },
  {
   "cell_type": "markdown",
   "metadata": {},
   "source": [
    "Criando grupo de clientes baseado em suas idades\n",
    "\n",
    "Grupo 1: idade <= 30\n",
    "\n",
    "Grupo 2: 30<idade<=50\n",
    "\n",
    "Grupo 3: 50<idade<=70\n",
    "\n",
    "Grupo 4: idade>70"
   ]
  },
  {
   "cell_type": "code",
   "execution_count": 31,
   "metadata": {},
   "outputs": [],
   "source": [
    "def grupo_idade(dados):\n",
    "    dados.loc[dados['age'] <= 30, 'age'] = 1\n",
    "    dados.loc[(dados['age'] > 30) & (dados['age'] <= 50), 'age'] = 2\n",
    "    dados.loc[(dados['age'] > 50) & (dados['age'] <= 70), 'age'] = 3\n",
    "    dados.loc[dados['age'] > 70, 'age'] = 4\n",
    "           \n",
    "    return dados"
   ]
  },
  {
   "cell_type": "code",
   "execution_count": 32,
   "metadata": {},
   "outputs": [],
   "source": [
    "clientes = grupo_idade(clientes)"
   ]
  },
  {
   "cell_type": "code",
   "execution_count": 33,
   "metadata": {},
   "outputs": [
    {
     "name": "stdout",
     "output_type": "stream",
     "text": [
      "   age  job  marital  education  default  housing  loan  y\n",
      "0    3    4        1          2        0        1     0  0\n",
      "1    2    9        2          1        0        1     0  0\n",
      "2    2    2        1          1        0        1     1  0\n",
      "3    2    1        1          3        0        1     0  0\n",
      "4    2   11        2          3        0        0     0  0\n"
     ]
    }
   ],
   "source": [
    "#Verificando o DataFrame para verificar se o perfil da idade está correto\n",
    "print(clientes.head())"
   ]
  },
  {
   "cell_type": "markdown",
   "metadata": {},
   "source": [
    "Correlação dados dos clientes"
   ]
  },
  {
   "cell_type": "code",
   "execution_count": 34,
   "metadata": {},
   "outputs": [
    {
     "data": {
      "text/plain": [
       "<matplotlib.axes._subplots.AxesSubplot at 0x1a174ceb00>"
      ]
     },
     "execution_count": 34,
     "metadata": {},
     "output_type": "execute_result"
    },
    {
     "data": {
      "image/png": "[encoded data removed]",
      "text/plain": [
       "<Figure size 936x504 with 2 Axes>"
      ]
     },
     "metadata": {
      "needs_background": "light"
     },
     "output_type": "display_data"
    }
   ],
   "source": [
    "corr_clientes=clientes.corr()\n",
    "sns.set_context(\"notebook\",font_scale = 1.0, rc = {\"lines.linewidth\":2.5})\n",
    "plt.figure(figsize = (13,7))\n",
    "sns.heatmap(corr_clientes, annot = True, fmt = \".2f\")"
   ]
  },
  {
   "cell_type": "markdown",
   "metadata": {},
   "source": [
    "Analisando agora os dados relacionados ao contato com o cliente"
   ]
  },
  {
   "cell_type": "code",
   "execution_count": 35,
   "metadata": {},
   "outputs": [],
   "source": [
    "colunas = ['contact','month','day','duration','y']\n",
    "contato = bank[colunas]"
   ]
  },
  {
   "cell_type": "code",
   "execution_count": 36,
   "metadata": {},
   "outputs": [
    {
     "name": "stdout",
     "output_type": "stream",
     "text": [
      "   contact month  day  duration   y\n",
      "0  unknown   may    5       261  no\n",
      "1  unknown   may    5       151  no\n",
      "2  unknown   may    5        76  no\n",
      "3  unknown   may    5        92  no\n",
      "4  unknown   may    5       198  no\n"
     ]
    }
   ],
   "source": [
    "print(contato.head())"
   ]
  },
  {
   "cell_type": "markdown",
   "metadata": {},
   "source": [
    "Determinando os tipos de contato"
   ]
  },
  {
   "cell_type": "code",
   "execution_count": 37,
   "metadata": {},
   "outputs": [
    {
     "name": "stdout",
     "output_type": "stream",
     "text": [
      "['unknown' 'cellular' 'telephone']\n"
     ]
    }
   ],
   "source": [
    "tipo_contato = contato['contact'].unique()\n",
    "print(tipo_contato)"
   ]
  },
  {
   "cell_type": "markdown",
   "metadata": {},
   "source": [
    "Determinando os meses da campanha"
   ]
  },
  {
   "cell_type": "code",
   "execution_count": 38,
   "metadata": {},
   "outputs": [
    {
     "name": "stdout",
     "output_type": "stream",
     "text": [
      "['may' 'jun' 'jul' 'aug' 'oct' 'nov' 'dec' 'jan' 'feb' 'mar' 'apr' 'sep']\n"
     ]
    }
   ],
   "source": [
    "mes_campanha = contato['month'].unique()\n",
    "print(mes_campanha)"
   ]
  },
  {
   "cell_type": "markdown",
   "metadata": {},
   "source": [
    "Determinando os dias da campanha"
   ]
  },
  {
   "cell_type": "code",
   "execution_count": 39,
   "metadata": {},
   "outputs": [
    {
     "name": "stdout",
     "output_type": "stream",
     "text": [
      "[ 5  6  7  8  9 12 13 14 15 16 19 20 21 23 26 27 28 29 30  2  3  4 11 17\n",
      " 18 24 25  1 10 22 31]\n"
     ]
    }
   ],
   "source": [
    "dia_campanha = contato['day'].unique()\n",
    "print(dia_campanha)"
   ]
  },
  {
   "cell_type": "markdown",
   "metadata": {},
   "source": [
    "Analisando a duração das chamadas"
   ]
  },
  {
   "cell_type": "code",
   "execution_count": 40,
   "metadata": {},
   "outputs": [
    {
     "data": {
      "image/png": "[encoded data removed]",
      "text/plain": [
       "<Figure size 1440x576 with 1 Axes>"
      ]
     },
     "metadata": {
      "needs_background": "light"
     },
     "output_type": "display_data"
    }
   ],
   "source": [
    "fig,ax = plt.subplots()\n",
    "fig.set_size_inches(20, 8)\n",
    "sns.boxplot(x = 'duration', data = contato, hue='y', orient = 'v')\n",
    "ax.set_xlabel('Chamada', fontsize=15)\n",
    "ax.set_ylabel('Duração', fontsize=15)\n",
    "ax.set_title('Distribuição das chamadas', fontsize=15)\n",
    "plt.tight_layout()"
   ]
  },
  {
   "cell_type": "code",
   "execution_count": 41,
   "metadata": {},
   "outputs": [
    {
     "data": {
      "image/png": "[encoded data removed]",
      "text/plain": [
       "<Figure size 1440x576 with 1 Axes>"
      ]
     },
     "metadata": {
      "needs_background": "light"
     },
     "output_type": "display_data"
    }
   ],
   "source": [
    "fig,ax = plt.subplots()\n",
    "fig.set_size_inches(20, 8)\n",
    "sns.distplot(contato['duration'])\n",
    "sns.despine(ax = ax)\n",
    "ax.set_xlabel('Duração da chamada', fontsize=10)\n",
    "ax.set_ylabel('Ocorrencia', fontsize=10)\n",
    "ax.set_title('Duração x Ocorrencia', fontsize=10)\n",
    "ax.tick_params(labelsize=10)\n",
    "plt.tight_layout()"
   ]
  },
  {
   "cell_type": "code",
   "execution_count": 42,
   "metadata": {},
   "outputs": [
    {
     "name": "stdout",
     "output_type": "stream",
     "text": [
      "Duração mínima: 0.0 minutos\n",
      "Duração máxima: 82.0 minutos\n",
      "Duração média: 4.3 minutos\n",
      "Duração std: 4.3 minutos\n"
     ]
    }
   ],
   "source": [
    "duracao_min = contato['duration'].min()/60.0\n",
    "print(\"Duração mínima: {:0.1f} minutos\".format(duracao_min))\n",
    "duracao_max = contato['duration'].max()/60.0\n",
    "print(\"Duração máxima: {:0.1f} minutos\".format(duracao_max))\n",
    "duracao_mean = contato['duration'].mean()/60.0\n",
    "print(\"Duração média: {:0.1f} minutos\".format(duracao_mean))\n",
    "duracao_std = contato['duration'].std()/60.0\n",
    "print(\"Duração std: {:0.1f} minutos\".format(duracao_std))"
   ]
  },
  {
   "cell_type": "code",
   "execution_count": 43,
   "metadata": {},
   "outputs": [
    {
     "name": "stdout",
     "output_type": "stream",
     "text": [
      "Primeiro quartil = 1.7\n",
      "Segundo quartil = 3.0\n",
      "Terceiro quartil = 5.3\n",
      "Quarto quartil = 82.0\n",
      "Outliers = 10.7\n"
     ]
    }
   ],
   "source": [
    "q1c = contato['duration'].quantile(q = 0.25)/60.0\n",
    "q2c = contato['duration'].quantile(q = 0.50)/60.0\n",
    "q3c = contato['duration'].quantile(q = 0.75)/60.0\n",
    "q4c = contato['duration'].quantile(q = 1.00)/60.0\n",
    "outliers_c = q3c + 1.5*(q3c-q1c)\n",
    "print(\"Primeiro quartil = {:0.1f}\".format(q1c))\n",
    "print(\"Segundo quartil = {:0.1f}\".format(q2c))\n",
    "print(\"Terceiro quartil = {:0.1f}\".format(q3c))\n",
    "print(\"Quarto quartil = {:0.1f}\".format(q4c))\n",
    "print(\"Outliers = {:0.1f}\".format(outliers_c))"
   ]
  },
  {
   "cell_type": "markdown",
   "metadata": {},
   "source": [
    "Chamadas com mais de 11.1 minutos são outliers"
   ]
  },
  {
   "cell_type": "code",
   "execution_count": 44,
   "metadata": {},
   "outputs": [
    {
     "name": "stdout",
     "output_type": "stream",
     "text": [
      "Numero de outliers = 3247\n",
      "Numero de outliers = 7.18 %\n"
     ]
    }
   ],
   "source": [
    "num_outliers_c = contato[contato['duration'] > outliers_c*60.0]['duration'].count()\n",
    "print(\"Numero de outliers = {:0.0f}\".format(num_outliers_c))\n",
    "perc_num_outliers_c = 100.0*num_outliers_c/len(contato)\n",
    "print(\"Numero de outliers = {:0.2f} %\".format(perc_num_outliers_c))"
   ]
  },
  {
   "cell_type": "markdown",
   "metadata": {},
   "source": [
    "Verificando registros de chamadas não atendidas"
   ]
  },
  {
   "cell_type": "code",
   "execution_count": 45,
   "metadata": {},
   "outputs": [
    {
     "name": "stdout",
     "output_type": "stream",
     "text": [
      "contact     3\n",
      "month       3\n",
      "day         3\n",
      "duration    3\n",
      "y           3\n",
      "dtype: int64\n"
     ]
    }
   ],
   "source": [
    "chamadas_neg = contato[(contato['duration'] == 0)].count()\n",
    "print(chamadas_neg)"
   ]
  },
  {
   "cell_type": "markdown",
   "metadata": {},
   "source": [
    "Distribuição dos contatos telefonicos"
   ]
  },
  {
   "cell_type": "code",
   "execution_count": 46,
   "metadata": {},
   "outputs": [
    {
     "data": {
      "image/png": "[encoded data removed]",
      "text/plain": [
       "<Figure size 1440x576 with 1 Axes>"
      ]
     },
     "metadata": {
      "needs_background": "light"
     },
     "output_type": "display_data"
    }
   ],
   "source": [
    "fig,ax = plt.subplots()\n",
    "fig.set_size_inches(20, 8)\n",
    "sns.countplot(x = 'contact', data = contato, hue='y')\n",
    "ax.set_xlabel('Tipo de contato', fontsize=15)\n",
    "ax.set_ylabel('Contagem', fontsize=15)\n",
    "ax.set_title('Distribuição de contatos', fontsize=15)\n",
    "plt.tight_layout()"
   ]
  },
  {
   "cell_type": "code",
   "execution_count": 47,
   "metadata": {},
   "outputs": [
    {
     "data": {
      "image/png": "[encoded data removed]",
      "text/plain": [
       "<Figure size 1440x576 with 1 Axes>"
      ]
     },
     "metadata": {
      "needs_background": "light"
     },
     "output_type": "display_data"
    }
   ],
   "source": [
    "fig,ax = plt.subplots()\n",
    "fig.set_size_inches(20, 8)\n",
    "sns.countplot(x = 'month', data = contato, hue='y', order = ['jan','fev','mar', 'apr', 'may', 'jun', 'jul', 'aug', 'sep', 'oct', 'nov', 'dec'])\n",
    "ax.set_xlabel('Mês de contato', fontsize=15)\n",
    "ax.set_ylabel('Contagem', fontsize=15)\n",
    "ax.set_title('Distribuição dos meses', fontsize=15)\n",
    "plt.tight_layout()"
   ]
  },
  {
   "cell_type": "code",
   "execution_count": 48,
   "metadata": {},
   "outputs": [
    {
     "data": {
      "image/png": "[encoded data removed]",
      "text/plain": [
       "<Figure size 1440x576 with 1 Axes>"
      ]
     },
     "metadata": {
      "needs_background": "light"
     },
     "output_type": "display_data"
    }
   ],
   "source": [
    "fig,ax = plt.subplots()\n",
    "fig.set_size_inches(20, 8)\n",
    "sns.countplot(x = 'day', data = contato, hue='y', order = list(range(1,32)))\n",
    "ax.set_xlabel('Dia de contato', fontsize=15)\n",
    "ax.set_ylabel('Contagem', fontsize=15)\n",
    "ax.set_title('Distribuição dos dias', fontsize=15)\n",
    "plt.tight_layout()"
   ]
  },
  {
   "cell_type": "markdown",
   "metadata": {},
   "source": [
    "Criando grupo de contato baseado na duração da chamada"
   ]
  },
  {
   "cell_type": "code",
   "execution_count": 49,
   "metadata": {},
   "outputs": [],
   "source": [
    "def grupo_duracao(duracao):\n",
    "    duracao.loc[duracao['duration'] <= 120, 'duration'] = 1\n",
    "    duracao.loc[(duracao['duration'] > 120) & (duracao['duration'] <= 180), 'duration'] = 2\n",
    "    duracao.loc[(duracao['duration'] > 180) & (duracao['duration'] <= 300), 'duration'] = 3\n",
    "    duracao.loc[(duracao['duration'] > 300) & (duracao['duration'] <= 600), 'duration'] = 4\n",
    "    duracao.loc[duracao['duration'] > 600, 'duration'] = 5\n",
    "           \n",
    "    return duracao"
   ]
  },
  {
   "cell_type": "code",
   "execution_count": 50,
   "metadata": {},
   "outputs": [],
   "source": [
    "contato = grupo_duracao(contato)"
   ]
  },
  {
   "cell_type": "code",
   "execution_count": 51,
   "metadata": {},
   "outputs": [
    {
     "name": "stdout",
     "output_type": "stream",
     "text": [
      "   contact month  day  duration   y\n",
      "0  unknown   may    5         3  no\n",
      "1  unknown   may    5         2  no\n",
      "2  unknown   may    5         1  no\n",
      "3  unknown   may    5         1  no\n",
      "4  unknown   may    5         3  no\n"
     ]
    }
   ],
   "source": [
    "#Verificando se a conversão foi bem sucedida\n",
    "print(contato.head())"
   ]
  },
  {
   "cell_type": "markdown",
   "metadata": {},
   "source": [
    "Convertendo variáveis categóricas de contato para valores numéricos"
   ]
  },
  {
   "cell_type": "code",
   "execution_count": 52,
   "metadata": {},
   "outputs": [],
   "source": [
    "from sklearn.preprocessing import LabelEncoder\n",
    "enconder = LabelEncoder()"
   ]
  },
  {
   "cell_type": "code",
   "execution_count": 53,
   "metadata": {},
   "outputs": [],
   "source": [
    "contato['contact'] = enconder.fit_transform(contato['contact']) \n",
    "contato['month'] = enconder.fit_transform(contato['month']) \n",
    "contato['y'] = enconder.fit_transform(contato['y']) "
   ]
  },
  {
   "cell_type": "code",
   "execution_count": 54,
   "metadata": {},
   "outputs": [
    {
     "name": "stdout",
     "output_type": "stream",
     "text": [
      "   contact  month  day  duration  y\n",
      "0        2      8    5         3  0\n",
      "1        2      8    5         2  0\n",
      "2        2      8    5         1  0\n",
      "3        2      8    5         1  0\n",
      "4        2      8    5         3  0\n"
     ]
    }
   ],
   "source": [
    "#Verificando se a conversão foi bem sucessida\n",
    "print(contato.head())"
   ]
  },
  {
   "cell_type": "markdown",
   "metadata": {},
   "source": [
    "Correlação contato"
   ]
  },
  {
   "cell_type": "code",
   "execution_count": 55,
   "metadata": {},
   "outputs": [
    {
     "data": {
      "text/plain": [
       "<matplotlib.axes._subplots.AxesSubplot at 0x1a173b1390>"
      ]
     },
     "execution_count": 55,
     "metadata": {},
     "output_type": "execute_result"
    },
    {
     "data": {
      "image/png": "[encoded data removed]",
      "text/plain": [
       "<Figure size 936x504 with 2 Axes>"
      ]
     },
     "metadata": {
      "needs_background": "light"
     },
     "output_type": "display_data"
    }
   ],
   "source": [
    "corr_contato=contato.corr()\n",
    "sns.set_context(\"notebook\",font_scale = 1.0, rc = {\"lines.linewidth\":2.5})\n",
    "plt.figure(figsize = (13,7))\n",
    "sns.heatmap(corr_contato, annot = True, fmt = \".2f\")"
   ]
  },
  {
   "cell_type": "markdown",
   "metadata": {},
   "source": [
    "Analisando os atributos da campanha"
   ]
  },
  {
   "cell_type": "code",
   "execution_count": 56,
   "metadata": {},
   "outputs": [],
   "source": [
    "colunas_camp = ['campaign','pdays','previous','poutcome','y']\n",
    "campanha = bank[colunas_camp]"
   ]
  },
  {
   "cell_type": "code",
   "execution_count": 57,
   "metadata": {},
   "outputs": [
    {
     "name": "stdout",
     "output_type": "stream",
     "text": [
      "   campaign  pdays  previous poutcome   y\n",
      "0         1     -1         0  unknown  no\n",
      "1         1     -1         0  unknown  no\n",
      "2         1     -1         0  unknown  no\n",
      "3         1     -1         0  unknown  no\n",
      "4         1     -1         0  unknown  no\n"
     ]
    }
   ],
   "source": [
    "print(campanha.head())"
   ]
  },
  {
   "cell_type": "markdown",
   "metadata": {},
   "source": [
    "Determinando os números de contatos"
   ]
  },
  {
   "cell_type": "code",
   "execution_count": 58,
   "metadata": {},
   "outputs": [
    {
     "name": "stdout",
     "output_type": "stream",
     "text": [
      "[ 1  2  3  5  4  6  7  8  9 10 11 12 13 19 14 24 16 32 18 22 15 17 25 21\n",
      " 43 51 63 41 26 28 55 50 38 23 20 29 31 37 30 46 27 58 33 35 34 36 39 44]\n"
     ]
    }
   ],
   "source": [
    "print(campanha['campaign'].unique())"
   ]
  },
  {
   "cell_type": "markdown",
   "metadata": {},
   "source": [
    "Determinando o número de possiveis dias que se passaram"
   ]
  },
  {
   "cell_type": "code",
   "execution_count": 59,
   "metadata": {},
   "outputs": [
    {
     "name": "stdout",
     "output_type": "stream",
     "text": [
      "[ -1 151 166  91  86 143 147  89 140 176 101 174 170 167 195 165 129 188\n",
      " 196 172 118 119 104 171 117 164 132 131 123 159 186 111 115 116 173 178\n",
      " 110 152  96 103 150 175 193 181 185 154 145 138 126 180 109 158 168  97\n",
      " 182 127 130 194 125 105 102  26 179  28 183 155 112 120 137 124 187 190\n",
      " 113 162 134 169 189   8 144 191 184 177   5  99 133  93  92  10 100 156\n",
      " 198 106 153 146 128   7 121 160 107  90  27 197 136 139 122 157 149 135\n",
      "  30 114  98 192 163  34  95 141  31 199  94 108  29 268 247 253 226 244\n",
      " 239 245 204 231 238 258 230 254 265  71 223 246 250 266 240 205 261 259\n",
      " 241 260 234 251 225 161 237 262 248 255 220 227 206 224 249 235 228 263\n",
      "   2 270 232 252 207 200 269 233 256 273 272 242 264 208 214 222 271 203\n",
      " 221 202 216 201 257 229 210 217  75 213  73  76 267 211 215  77 236  82\n",
      "   6 209 274   1 243 212 275  80 276   9 279  12 280  88 277  85  84 219\n",
      "  24  21 282  41 294  49 329 307 303 331 308 300  64 314 287 330 332 302\n",
      " 323 318 333  60 326 335 313 312 305 325 327 336 309 328 322  39 316 292\n",
      " 295 310 306 320 317 289  57 321 142 339 301 315 337 334 340 319  17  74\n",
      " 148 341 299 344 342 324 345 346 304 281 343 338  14 347  15 291 348 349\n",
      " 285 350 284  25 283 278  81   4  87  83  79  70  13 293  37  78  63  22\n",
      " 296 355  66  19  35 360 357 354 351 362 358 365 298 286 364 363  47 361\n",
      " 288 366 356 352 359 297 367 353 368  42 290  67 371 370 369  50  36 373\n",
      " 374 372 311 375 378  59 379  40  18  43  20  69  38 385  56  55  44 391\n",
      "  72 390  32  62 399 393  65 377 395 388 389 386  61 412 405 434 394 382\n",
      " 459 440 397 383  68 461 462 463 422  51 457 430 442 403 454 428 392 410\n",
      " 401 474 475 477 478  54 476 380 479  45  46 495  58  48 518  52 515 520\n",
      " 511 536 387 218  33 544 435 436 555 433 446 558 469 616 561 553 384 592\n",
      " 467 585 480 421 667 626 426 595 381 376 648 521 452 449 633 398  53 460\n",
      " 670 551 414 557 687 404 651 686 425 504 578 674 416 586 411 756 450 745\n",
      " 514 417 424 776 396 683 529 439 415 456 407 458 532 481 791 701 531 792\n",
      " 413 445 535 784 419 455 491 431 542 470 472 717 437   3 782 728 828 524\n",
      " 562 761 492 775 579 493 464 760 466 465 656 831 490 432 655 427 749 838\n",
      " 769 587 778 854 779 850 771 594 842 589 603 484 489 486 409 444 680 808\n",
      " 485 503 690 772 774 526 420 528 500 826 804 508 547 805 541 543 871 550\n",
      " 530]\n"
     ]
    }
   ],
   "source": [
    "print(campanha['pdays'].unique())"
   ]
  },
  {
   "cell_type": "markdown",
   "metadata": {},
   "source": [
    "Determinando o número de contatos antes da campanha"
   ]
  },
  {
   "cell_type": "code",
   "execution_count": 60,
   "metadata": {},
   "outputs": [
    {
     "name": "stdout",
     "output_type": "stream",
     "text": [
      "[  0   3   1   4   2  11  16   6   5  10  12   7  18   9  21   8  14  15\n",
      "  26  37  13  25  20  27  17  23  38  29  24  51 275  22  19  30  58  28\n",
      "  32  40  55  35  41]\n"
     ]
    }
   ],
   "source": [
    "print(campanha['previous'].unique())"
   ]
  },
  {
   "cell_type": "markdown",
   "metadata": {},
   "source": [
    "Determinando os resultados da última campanha"
   ]
  },
  {
   "cell_type": "code",
   "execution_count": 61,
   "metadata": {},
   "outputs": [
    {
     "name": "stdout",
     "output_type": "stream",
     "text": [
      "['unknown' 'failure' 'other' 'success']\n"
     ]
    }
   ],
   "source": [
    "print(campanha['poutcome'].unique())"
   ]
  },
  {
   "cell_type": "markdown",
   "metadata": {},
   "source": [
    "Graficando distribuição anterior"
   ]
  },
  {
   "cell_type": "code",
   "execution_count": 62,
   "metadata": {},
   "outputs": [
    {
     "data": {
      "image/png": "[encoded data removed]",
      "text/plain": [
       "<Figure size 1440x576 with 1 Axes>"
      ]
     },
     "metadata": {
      "needs_background": "light"
     },
     "output_type": "display_data"
    }
   ],
   "source": [
    "fig,ax = plt.subplots()\n",
    "fig.set_size_inches(20, 8)\n",
    "sns.countplot(x = 'poutcome', data = campanha, hue='y')\n",
    "ax.set_xlabel('Resultado', fontsize=15)\n",
    "ax.set_ylabel('Contagem', fontsize=15)\n",
    "ax.set_title('Distribuição dos resultados', fontsize=15)\n",
    "plt.tight_layout()"
   ]
  },
  {
   "cell_type": "markdown",
   "metadata": {},
   "source": [
    "Convertendo variaveis categórias da campanha para valores numéricos"
   ]
  },
  {
   "cell_type": "code",
   "execution_count": 63,
   "metadata": {},
   "outputs": [],
   "source": [
    "from sklearn.preprocessing import LabelEncoder\n",
    "enconder = LabelEncoder()"
   ]
  },
  {
   "cell_type": "code",
   "execution_count": 64,
   "metadata": {},
   "outputs": [],
   "source": [
    "campanha['poutcome'] = enconder.fit_transform(campanha['poutcome']) \n",
    "campanha['y'] = enconder.fit_transform(campanha['y']) "
   ]
  },
  {
   "cell_type": "code",
   "execution_count": 65,
   "metadata": {},
   "outputs": [
    {
     "name": "stdout",
     "output_type": "stream",
     "text": [
      "   campaign  pdays  previous  poutcome  y\n",
      "0         1     -1         0         3  0\n",
      "1         1     -1         0         3  0\n",
      "2         1     -1         0         3  0\n",
      "3         1     -1         0         3  0\n",
      "4         1     -1         0         3  0\n"
     ]
    }
   ],
   "source": [
    "#Verificando se a conversão foi bem sucedida\n",
    "print(campanha.head())"
   ]
  },
  {
   "cell_type": "markdown",
   "metadata": {},
   "source": [
    "Correlação campanha"
   ]
  },
  {
   "cell_type": "code",
   "execution_count": 66,
   "metadata": {},
   "outputs": [
    {
     "data": {
      "text/plain": [
       "<matplotlib.axes._subplots.AxesSubplot at 0x1a16998898>"
      ]
     },
     "execution_count": 66,
     "metadata": {},
     "output_type": "execute_result"
    },
    {
     "data": {
      "image/png": "[encoded data removed]",
      "text/plain": [
       "<Figure size 936x504 with 2 Axes>"
      ]
     },
     "metadata": {
      "needs_background": "light"
     },
     "output_type": "display_data"
    }
   ],
   "source": [
    "corr_campanha=campanha.corr()\n",
    "sns.set_context(\"notebook\",font_scale = 1.0, rc = {\"lines.linewidth\":2.5})\n",
    "plt.figure(figsize = (13,7))\n",
    "sns.heatmap(corr_campanha, annot = True, fmt = \".2f\")"
   ]
  },
  {
   "cell_type": "markdown",
   "metadata": {},
   "source": [
    "Isolando a variável do resultado final"
   ]
  },
  {
   "cell_type": "code",
   "execution_count": 67,
   "metadata": {},
   "outputs": [],
   "source": [
    "resultado = pd.get_dummies(bank['y'], columns = ['y'], prefix = ['y'], drop_first = True)"
   ]
  },
  {
   "cell_type": "markdown",
   "metadata": {},
   "source": [
    "Removendo a coluna do resultado de todos os DataFrames"
   ]
  },
  {
   "cell_type": "code",
   "execution_count": 68,
   "metadata": {},
   "outputs": [
    {
     "name": "stdout",
     "output_type": "stream",
     "text": [
      "   campaign  pdays  previous  poutcome\n",
      "0         1     -1         0         3\n",
      "1         1     -1         0         3\n",
      "2         1     -1         0         3\n",
      "3         1     -1         0         3\n",
      "4         1     -1         0         3\n"
     ]
    }
   ],
   "source": [
    "campanha = campanha.drop('y',axis=1)\n",
    "print(campanha.head())"
   ]
  },
  {
   "cell_type": "code",
   "execution_count": 69,
   "metadata": {},
   "outputs": [
    {
     "name": "stdout",
     "output_type": "stream",
     "text": [
      "   contact  month  day  duration\n",
      "0        2      8    5         3\n",
      "1        2      8    5         2\n",
      "2        2      8    5         1\n",
      "3        2      8    5         1\n",
      "4        2      8    5         3\n"
     ]
    }
   ],
   "source": [
    "contato = contato.drop('y',axis=1)\n",
    "print(contato.head())"
   ]
  },
  {
   "cell_type": "code",
   "execution_count": 70,
   "metadata": {},
   "outputs": [
    {
     "name": "stdout",
     "output_type": "stream",
     "text": [
      "   age  job  marital  education  default  housing  loan\n",
      "0    3    4        1          2        0        1     0\n",
      "1    2    9        2          1        0        1     0\n",
      "2    2    2        1          1        0        1     1\n",
      "3    2    1        1          3        0        1     0\n",
      "4    2   11        2          3        0        0     0\n"
     ]
    }
   ],
   "source": [
    "clientes = clientes.drop('y',axis=1)\n",
    "print(clientes.head())"
   ]
  },
  {
   "cell_type": "markdown",
   "metadata": {},
   "source": [
    "Concatenando os DataFrames"
   ]
  },
  {
   "cell_type": "code",
   "execution_count": 71,
   "metadata": {},
   "outputs": [],
   "source": [
    "banco = pd.concat([clientes,contato,campanha], axis = 1)"
   ]
  },
  {
   "cell_type": "code",
   "execution_count": 72,
   "metadata": {},
   "outputs": [
    {
     "name": "stdout",
     "output_type": "stream",
     "text": [
      "   age  job  marital  education  default  housing  loan  contact  month  day  \\\n",
      "0    3    4        1          2        0        1     0        2      8    5   \n",
      "1    2    9        2          1        0        1     0        2      8    5   \n",
      "2    2    2        1          1        0        1     1        2      8    5   \n",
      "3    2    1        1          3        0        1     0        2      8    5   \n",
      "4    2   11        2          3        0        0     0        2      8    5   \n",
      "\n",
      "   duration  campaign  pdays  previous  poutcome  \n",
      "0         3         1     -1         0         3  \n",
      "1         2         1     -1         0         3  \n",
      "2         1         1     -1         0         3  \n",
      "3         1         1     -1         0         3  \n",
      "4         3         1     -1         0         3  \n"
     ]
    }
   ],
   "source": [
    "print(banco.head())"
   ]
  },
  {
   "cell_type": "markdown",
   "metadata": {},
   "source": [
    "Separando numa amostra de treino e teste"
   ]
  },
  {
   "cell_type": "code",
   "execution_count": 73,
   "metadata": {},
   "outputs": [],
   "source": [
    "from sklearn.model_selection import train_test_split\n",
    "X_treino, X_teste, y_treino, y_teste = train_test_split(banco, resultado, test_size = 0.25, random_state = 101)"
   ]
  },
  {
   "cell_type": "code",
   "execution_count": 74,
   "metadata": {},
   "outputs": [],
   "source": [
    "from sklearn.preprocessing import StandardScaler\n",
    "sc = StandardScaler()\n",
    "X_treino = sc.fit_transform(X_treino)\n",
    "X_teste = sc.transform(X_teste)"
   ]
  },
  {
   "cell_type": "markdown",
   "metadata": {},
   "source": [
    "Importanto bibliotecas para determinar melhor modelo de previsão"
   ]
  },
  {
   "cell_type": "code",
   "execution_count": 75,
   "metadata": {},
   "outputs": [],
   "source": [
    "from sklearn.metrics import confusion_matrix, accuracy_score\n",
    "from sklearn.model_selection import KFold\n",
    "from sklearn.model_selection import cross_val_score\n",
    "k_fold = KFold(n_splits=10, shuffle=True, random_state=0)"
   ]
  },
  {
   "cell_type": "markdown",
   "metadata": {},
   "source": [
    "Utilizando modelo de regressão logistica"
   ]
  },
  {
   "cell_type": "code",
   "execution_count": 76,
   "metadata": {},
   "outputs": [],
   "source": [
    "from sklearn.linear_model import LogisticRegression\n",
    "logreg = LogisticRegression() \n",
    "logreg.fit(X_treino,y_treino)\n",
    "logpred = logreg.predict(X_teste)"
   ]
  },
  {
   "cell_type": "markdown",
   "metadata": {},
   "source": [
    "Exibindo matriz de confusão para o modelo de regressão logística"
   ]
  },
  {
   "cell_type": "code",
   "execution_count": 77,
   "metadata": {},
   "outputs": [
    {
     "name": "stdout",
     "output_type": "stream",
     "text": [
      "[[9769  176]\n",
      " [1079  279]]\n"
     ]
    }
   ],
   "source": [
    "matriz_logreg = confusion_matrix(y_teste, logpred)\n",
    "print(matriz_logreg)"
   ]
  },
  {
   "cell_type": "markdown",
   "metadata": {},
   "source": [
    "Determinando a acurácia do modelo de regressão logística"
   ]
  },
  {
   "cell_type": "code",
   "execution_count": 78,
   "metadata": {},
   "outputs": [
    {
     "name": "stdout",
     "output_type": "stream",
     "text": [
      "Acurácia Regressão Logística = 88.90%\n"
     ]
    }
   ],
   "source": [
    "acc_logreg = accuracy_score(y_teste, logpred)*100\n",
    "print(\"Acurácia Regressão Logística = {:0.2f}%\".format(acc_logreg))"
   ]
  },
  {
   "cell_type": "markdown",
   "metadata": {},
   "source": [
    "Validação cruzada Regressão logística"
   ]
  },
  {
   "cell_type": "code",
   "execution_count": 79,
   "metadata": {},
   "outputs": [
    {
     "name": "stdout",
     "output_type": "stream",
     "text": [
      "Cross-Validation = 88.87%\n"
     ]
    }
   ],
   "source": [
    "cv_logreg = (cross_val_score(logreg, X_treino, y_treino, cv=k_fold, n_jobs=1, scoring = 'accuracy').mean())\n",
    "print(\"Cross-Validation = {:0.2f}%\".format(cv_logreg*100))"
   ]
  },
  {
   "cell_type": "markdown",
   "metadata": {},
   "source": [
    "Utilizando modelo KNN para previsão"
   ]
  },
  {
   "cell_type": "code",
   "execution_count": 80,
   "metadata": {},
   "outputs": [],
   "source": [
    "from sklearn.neighbors import KNeighborsClassifier"
   ]
  },
  {
   "cell_type": "code",
   "execution_count": 81,
   "metadata": {},
   "outputs": [],
   "source": [
    "#número de vizinhos\n",
    "vizinhos = np.arange(0,35)"
   ]
  },
  {
   "cell_type": "code",
   "execution_count": 82,
   "metadata": {},
   "outputs": [
    {
     "name": "stdout",
     "output_type": "stream",
     "text": [
      "vizinhos=1 86.70 (+/- 0.70)\n",
      "vizinhos=2 88.96 (+/- 0.77)\n",
      "vizinhos=3 88.49 (+/- 0.71)\n",
      "vizinhos=4 89.03 (+/- 0.70)\n",
      "vizinhos=5 88.97 (+/- 0.75)\n",
      "vizinhos=6 89.08 (+/- 0.77)\n",
      "vizinhos=7 89.04 (+/- 0.76)\n",
      "vizinhos=8 89.10 (+/- 0.75)\n",
      "vizinhos=9 89.17 (+/- 0.72)\n",
      "vizinhos=10 89.16 (+/- 0.72)\n",
      "vizinhos=11 89.13 (+/- 0.76)\n",
      "vizinhos=12 89.15 (+/- 0.74)\n",
      "vizinhos=13 89.16 (+/- 0.76)\n",
      "vizinhos=14 89.16 (+/- 0.74)\n",
      "vizinhos=15 89.21 (+/- 0.72)\n",
      "vizinhos=16 89.21 (+/- 0.69)\n",
      "vizinhos=17 89.19 (+/- 0.70)\n",
      "vizinhos=18 89.24 (+/- 0.61)\n",
      "vizinhos=19 89.22 (+/- 0.67)\n",
      "vizinhos=20 89.20 (+/- 0.65)\n",
      "vizinhos=21 89.19 (+/- 0.69)\n",
      "vizinhos=22 89.22 (+/- 0.63)\n",
      "vizinhos=23 89.19 (+/- 0.65)\n",
      "vizinhos=24 89.20 (+/- 0.70)\n",
      "vizinhos=25 89.25 (+/- 0.72)\n",
      "vizinhos=26 89.17 (+/- 0.70)\n",
      "vizinhos=27 89.21 (+/- 0.69)\n",
      "vizinhos=28 89.15 (+/- 0.65)\n",
      "vizinhos=29 89.14 (+/- 0.63)\n",
      "vizinhos=30 89.19 (+/- 0.65)\n",
      "vizinhos=31 89.18 (+/- 0.67)\n",
      "vizinhos=32 89.17 (+/- 0.62)\n",
      "vizinhos=33 89.16 (+/- 0.65)\n",
      "vizinhos=34 89.10 (+/- 0.66)\n",
      "vizinhos=35 89.11 (+/- 0.62)\n"
     ]
    }
   ],
   "source": [
    "#Lista vazina para armazenar notas da validação cruzada\n",
    "notas_cv = []\n",
    "for k in vizinhos:\n",
    "    valor_k = k+1\n",
    "    knn = KNeighborsClassifier(n_neighbors = valor_k, weights='uniform', p=3, metric='minkowski')\n",
    "    kfold = KFold(n_splits=10, random_state=123)\n",
    "    notas = cross_val_score(knn, X_treino, y_treino, cv=kfold, scoring='accuracy')\n",
    "    notas_cv.append(notas.mean()*100)\n",
    "    print(\"vizinhos=%d %0.2f (+/- %0.2f)\" % (valor_k, notas.mean()*100, notas.std()*100))"
   ]
  },
  {
   "cell_type": "code",
   "execution_count": 84,
   "metadata": {},
   "outputs": [
    {
     "name": "stdout",
     "output_type": "stream",
     "text": [
      "25\n"
     ]
    }
   ],
   "source": [
    "#Determinando melhor valor de vizinhos\n",
    "melhor_k = vizinhos[notas_cv.index(max(notas_cv))] + 1\n",
    "print(melhor_k)"
   ]
  },
  {
   "cell_type": "code",
   "execution_count": 85,
   "metadata": {},
   "outputs": [
    {
     "data": {
      "image/png": "[encoded data removed]",
      "text/plain": [
       "<Figure size 432x288 with 1 Axes>"
      ]
     },
     "metadata": {
      "needs_background": "light"
     },
     "output_type": "display_data"
    }
   ],
   "source": [
    "plt.plot(vizinhos, notas_cv)\n",
    "plt.xlabel('Vizinhos')\n",
    "plt.ylabel('Acurácia do treino')\n",
    "plt.show()"
   ]
  },
  {
   "cell_type": "markdown",
   "metadata": {},
   "source": [
    "Utilizando modelo KNN com n=9"
   ]
  },
  {
   "cell_type": "code",
   "execution_count": 86,
   "metadata": {},
   "outputs": [],
   "source": [
    "knn = KNeighborsClassifier(n_neighbors=melhor_k, weights='uniform', p=3, metric='minkowski')\n",
    "knn.fit(X_treino, y_treino)\n",
    "knn_pred = knn.predict(X_teste)"
   ]
  },
  {
   "cell_type": "markdown",
   "metadata": {},
   "source": [
    "Matriz de confusão do modelo KNN"
   ]
  },
  {
   "cell_type": "code",
   "execution_count": 87,
   "metadata": {},
   "outputs": [
    {
     "name": "stdout",
     "output_type": "stream",
     "text": [
      "[[9832  113]\n",
      " [1135  223]]\n"
     ]
    }
   ],
   "source": [
    "matriz_knn = confusion_matrix(y_teste, knn_pred)\n",
    "print(matriz_knn)"
   ]
  },
  {
   "cell_type": "markdown",
   "metadata": {},
   "source": [
    "Validação cruzada KNN"
   ]
  },
  {
   "cell_type": "code",
   "execution_count": 88,
   "metadata": {},
   "outputs": [
    {
     "name": "stdout",
     "output_type": "stream",
     "text": [
      "Cross-Validation = 89.16%\n"
     ]
    }
   ],
   "source": [
    "cv_knn = (cross_val_score(knn, X_treino, y_treino, cv=k_fold, n_jobs=1, scoring = 'accuracy').mean())\n",
    "print(\"Cross-Validation = {:0.2f}%\".format(cv_knn*100))"
   ]
  },
  {
   "cell_type": "markdown",
   "metadata": {},
   "source": [
    "Utilizando modelo SVC para previsão"
   ]
  },
  {
   "cell_type": "code",
   "execution_count": 89,
   "metadata": {},
   "outputs": [],
   "source": [
    "from sklearn.svm import SVC\n",
    "svc= SVC(kernel = 'sigmoid')\n",
    "svc.fit(X_treino, y_treino)\n",
    "svc_pred = svc.predict(X_teste)"
   ]
  },
  {
   "cell_type": "markdown",
   "metadata": {},
   "source": [
    "Matriz de confusão do modelo SVC"
   ]
  },
  {
   "cell_type": "code",
   "execution_count": 90,
   "metadata": {},
   "outputs": [
    {
     "name": "stdout",
     "output_type": "stream",
     "text": [
      "[[9001  944]\n",
      " [1002  356]]\n"
     ]
    }
   ],
   "source": [
    "matriz_svc = confusion_matrix(y_teste, svc_pred)\n",
    "print(matriz_svc)"
   ]
  },
  {
   "cell_type": "markdown",
   "metadata": {},
   "source": [
    "Validação utilizando SVC"
   ]
  },
  {
   "cell_type": "code",
   "execution_count": 91,
   "metadata": {},
   "outputs": [
    {
     "name": "stdout",
     "output_type": "stream",
     "text": [
      "Cross-Validation = 83.09%\n"
     ]
    }
   ],
   "source": [
    "cv_svc = (cross_val_score(svc, X_treino, y_treino, cv=k_fold, n_jobs=1, scoring = 'accuracy').mean())\n",
    "print(\"Cross-Validation = {:0.2f}%\".format(cv_svc*100))"
   ]
  },
  {
   "cell_type": "markdown",
   "metadata": {},
   "source": [
    "Utilizando modelo DecisionTreeClassifier (DTE) para previsão"
   ]
  },
  {
   "cell_type": "code",
   "execution_count": 92,
   "metadata": {},
   "outputs": [],
   "source": [
    "from sklearn.tree import DecisionTreeClassifier\n",
    "dte = DecisionTreeClassifier(criterion='entropy') #criterion = entopy, gini\n",
    "dte.fit(X_treino, y_treino)\n",
    "dte_pred = dte.predict(X_teste)"
   ]
  },
  {
   "cell_type": "markdown",
   "metadata": {},
   "source": [
    "Matriz de confusão do modelo DTE"
   ]
  },
  {
   "cell_type": "code",
   "execution_count": 93,
   "metadata": {},
   "outputs": [
    {
     "name": "stdout",
     "output_type": "stream",
     "text": [
      "[[9228  717]\n",
      " [ 682  676]]\n"
     ]
    }
   ],
   "source": [
    "matriz_dte = confusion_matrix(y_teste, dte_pred)\n",
    "print(matriz_dte)"
   ]
  },
  {
   "cell_type": "markdown",
   "metadata": {},
   "source": [
    "Validação utilizando DTE"
   ]
  },
  {
   "cell_type": "code",
   "execution_count": 94,
   "metadata": {},
   "outputs": [
    {
     "name": "stdout",
     "output_type": "stream",
     "text": [
      "Cross-Validation = 87.68%\n"
     ]
    }
   ],
   "source": [
    "cv_dte = (cross_val_score(dte, X_treino, y_treino, cv=k_fold, n_jobs=1, scoring = 'accuracy').mean())\n",
    "print(\"Cross-Validation = {:0.2f}%\".format(cv_dte*100))"
   ]
  },
  {
   "cell_type": "markdown",
   "metadata": {},
   "source": [
    "Utilizando modelo RandomForestClassifier (RFC) para previsão"
   ]
  },
  {
   "cell_type": "code",
   "execution_count": 95,
   "metadata": {},
   "outputs": [
    {
     "name": "stderr",
     "output_type": "stream",
     "text": [
      "/anaconda3/lib/python3.7/site-packages/sklearn/ensemble/weight_boosting.py:29: DeprecationWarning: numpy.core.umath_tests is an internal NumPy module and should not be imported. It will be removed in a future NumPy release.\n",
      "  from numpy.core.umath_tests import inner1d\n"
     ]
    }
   ],
   "source": [
    "from sklearn.ensemble import RandomForestClassifier\n",
    "rfc = RandomForestClassifier(n_estimators = 250,criterion='gini')#criterion = entopy,gini\n",
    "rfc.fit(X_treino, y_treino)\n",
    "rfc_pred = rfc.predict(X_teste)"
   ]
  },
  {
   "cell_type": "markdown",
   "metadata": {},
   "source": [
    "Matriz de confusão do modelo RFC"
   ]
  },
  {
   "cell_type": "code",
   "execution_count": 96,
   "metadata": {},
   "outputs": [
    {
     "name": "stdout",
     "output_type": "stream",
     "text": [
      "[[9613  332]\n",
      " [ 776  582]]\n"
     ]
    }
   ],
   "source": [
    "matriz_rfc = confusion_matrix(y_teste, rfc_pred)\n",
    "print(matriz_rfc)"
   ]
  },
  {
   "cell_type": "markdown",
   "metadata": {},
   "source": [
    "Validação utilizando RFC"
   ]
  },
  {
   "cell_type": "code",
   "execution_count": 97,
   "metadata": {},
   "outputs": [
    {
     "name": "stdout",
     "output_type": "stream",
     "text": [
      "Cross-Validation = 89.75%\n"
     ]
    }
   ],
   "source": [
    "cv_rfc = (cross_val_score(rfc, X_treino, y_treino, cv=k_fold, n_jobs=1, scoring = 'accuracy').mean())\n",
    "print(\"Cross-Validation = {:0.2f}%\".format(cv_rfc*100))"
   ]
  },
  {
   "cell_type": "markdown",
   "metadata": {},
   "source": [
    "Utilizando modelo GaussianNB (GNB) para previsão"
   ]
  },
  {
   "cell_type": "code",
   "execution_count": 98,
   "metadata": {},
   "outputs": [],
   "source": [
    "from sklearn.naive_bayes import GaussianNB\n",
    "gnb= GaussianNB()\n",
    "gnb.fit(X_treino, y_treino)\n",
    "gnb_pred = gnb.predict(X_teste)"
   ]
  },
  {
   "cell_type": "markdown",
   "metadata": {},
   "source": [
    "Matriz de confusão do modelo GNB"
   ]
  },
  {
   "cell_type": "code",
   "execution_count": 99,
   "metadata": {},
   "outputs": [
    {
     "name": "stdout",
     "output_type": "stream",
     "text": [
      "[[8646 1299]\n",
      " [ 613  745]]\n"
     ]
    }
   ],
   "source": [
    "matriz_gnb = confusion_matrix(y_teste, gnb_pred)\n",
    "print(matriz_gnb)"
   ]
  },
  {
   "cell_type": "markdown",
   "metadata": {},
   "source": [
    "Validação utilizando GNB"
   ]
  },
  {
   "cell_type": "code",
   "execution_count": 100,
   "metadata": {},
   "outputs": [
    {
     "name": "stdout",
     "output_type": "stream",
     "text": [
      "Cross-Validation = 82.87%\n"
     ]
    }
   ],
   "source": [
    "cv_gnb = (cross_val_score(gnb, X_treino, y_treino, cv=k_fold, n_jobs=1, scoring = 'accuracy').mean())\n",
    "print(\"Cross-Validation = {:0.2f}%\".format(cv_gnb*100))"
   ]
  },
  {
   "cell_type": "markdown",
   "metadata": {},
   "source": [
    "Utilizando modelo XGBClassifier (XGB) para previsão"
   ]
  },
  {
   "cell_type": "code",
   "execution_count": 101,
   "metadata": {},
   "outputs": [
    {
     "name": "stderr",
     "output_type": "stream",
     "text": [
      "/anaconda3/lib/python3.7/site-packages/sklearn/preprocessing/label.py:151: DeprecationWarning: The truth value of an empty array is ambiguous. Returning False, but in future this will result in an error. Use `array.size > 0` to check that an array is not empty.\n",
      "  if diff:\n"
     ]
    }
   ],
   "source": [
    "from xgboost import XGBClassifier\n",
    "xgb = XGBClassifier()\n",
    "xgb.fit(X_treino, y_treino)\n",
    "xgb_pred = xgb.predict(X_teste)"
   ]
  },
  {
   "cell_type": "markdown",
   "metadata": {},
   "source": [
    "Matriz de confusão do modelo XGB"
   ]
  },
  {
   "cell_type": "code",
   "execution_count": 102,
   "metadata": {},
   "outputs": [
    {
     "name": "stdout",
     "output_type": "stream",
     "text": [
      "[[9760  185]\n",
      " [ 906  452]]\n"
     ]
    }
   ],
   "source": [
    "matriz_xgb = confusion_matrix(y_teste, xgb_pred)\n",
    "print(matriz_xgb)"
   ]
  },
  {
   "cell_type": "markdown",
   "metadata": {},
   "source": [
    "Validação utilizando XGB"
   ]
  },
  {
   "cell_type": "code",
   "execution_count": 103,
   "metadata": {},
   "outputs": [
    {
     "name": "stderr",
     "output_type": "stream",
     "text": [
      "/anaconda3/lib/python3.7/site-packages/sklearn/preprocessing/label.py:151: DeprecationWarning: The truth value of an empty array is ambiguous. Returning False, but in future this will result in an error. Use `array.size > 0` to check that an array is not empty.\n",
      "  if diff:\n",
      "/anaconda3/lib/python3.7/site-packages/sklearn/preprocessing/label.py:151: DeprecationWarning: The truth value of an empty array is ambiguous. Returning False, but in future this will result in an error. Use `array.size > 0` to check that an array is not empty.\n",
      "  if diff:\n",
      "/anaconda3/lib/python3.7/site-packages/sklearn/preprocessing/label.py:151: DeprecationWarning: The truth value of an empty array is ambiguous. Returning False, but in future this will result in an error. Use `array.size > 0` to check that an array is not empty.\n",
      "  if diff:\n",
      "/anaconda3/lib/python3.7/site-packages/sklearn/preprocessing/label.py:151: DeprecationWarning: The truth value of an empty array is ambiguous. Returning False, but in future this will result in an error. Use `array.size > 0` to check that an array is not empty.\n",
      "  if diff:\n",
      "/anaconda3/lib/python3.7/site-packages/sklearn/preprocessing/label.py:151: DeprecationWarning: The truth value of an empty array is ambiguous. Returning False, but in future this will result in an error. Use `array.size > 0` to check that an array is not empty.\n",
      "  if diff:\n",
      "/anaconda3/lib/python3.7/site-packages/sklearn/preprocessing/label.py:151: DeprecationWarning: The truth value of an empty array is ambiguous. Returning False, but in future this will result in an error. Use `array.size > 0` to check that an array is not empty.\n",
      "  if diff:\n",
      "/anaconda3/lib/python3.7/site-packages/sklearn/preprocessing/label.py:151: DeprecationWarning: The truth value of an empty array is ambiguous. Returning False, but in future this will result in an error. Use `array.size > 0` to check that an array is not empty.\n",
      "  if diff:\n",
      "/anaconda3/lib/python3.7/site-packages/sklearn/preprocessing/label.py:151: DeprecationWarning: The truth value of an empty array is ambiguous. Returning False, but in future this will result in an error. Use `array.size > 0` to check that an array is not empty.\n",
      "  if diff:\n",
      "/anaconda3/lib/python3.7/site-packages/sklearn/preprocessing/label.py:151: DeprecationWarning: The truth value of an empty array is ambiguous. Returning False, but in future this will result in an error. Use `array.size > 0` to check that an array is not empty.\n",
      "  if diff:\n"
     ]
    },
    {
     "name": "stdout",
     "output_type": "stream",
     "text": [
      "Cross-Validation = 90.07%\n"
     ]
    },
    {
     "name": "stderr",
     "output_type": "stream",
     "text": [
      "/anaconda3/lib/python3.7/site-packages/sklearn/preprocessing/label.py:151: DeprecationWarning: The truth value of an empty array is ambiguous. Returning False, but in future this will result in an error. Use `array.size > 0` to check that an array is not empty.\n",
      "  if diff:\n"
     ]
    }
   ],
   "source": [
    "cv_xgb = (cross_val_score(xgb, X_treino, y_treino, cv=k_fold, n_jobs=1, scoring = 'accuracy').mean())\n",
    "print(\"Cross-Validation = {:0.2f}%\".format(cv_xgb*100))"
   ]
  },
  {
   "cell_type": "markdown",
   "metadata": {},
   "source": [
    "Utilizando modelo GradientBoostingClassifier (GBC) para previsão"
   ]
  },
  {
   "cell_type": "code",
   "execution_count": 104,
   "metadata": {},
   "outputs": [],
   "source": [
    "from sklearn.ensemble import GradientBoostingClassifier\n",
    "gbc = GradientBoostingClassifier()\n",
    "gbc.fit(X_treino, y_treino)\n",
    "gbc_pred = gbc.predict(X_teste)"
   ]
  },
  {
   "cell_type": "markdown",
   "metadata": {},
   "source": [
    "Matriz de confusão do modelo GBC"
   ]
  },
  {
   "cell_type": "code",
   "execution_count": 105,
   "metadata": {},
   "outputs": [
    {
     "name": "stdout",
     "output_type": "stream",
     "text": [
      "[[9732  213]\n",
      " [ 865  493]]\n"
     ]
    }
   ],
   "source": [
    "matriz_gbc = confusion_matrix(y_teste, gbc_pred)\n",
    "print(matriz_gbc)"
   ]
  },
  {
   "cell_type": "markdown",
   "metadata": {},
   "source": [
    "Validação utilizando GBC"
   ]
  },
  {
   "cell_type": "code",
   "execution_count": 106,
   "metadata": {},
   "outputs": [
    {
     "name": "stdout",
     "output_type": "stream",
     "text": [
      "Cross-Validation = 90.13%\n"
     ]
    }
   ],
   "source": [
    "cv_gbc = (cross_val_score(gbc, X_treino, y_treino, cv=k_fold, n_jobs=1, scoring = 'accuracy').mean())\n",
    "print(\"Cross-Validation = {:0.2f}%\".format(cv_gbc*100))"
   ]
  },
  {
   "cell_type": "markdown",
   "metadata": {},
   "source": [
    "Armazenando resultados num DataFrame"
   ]
  },
  {
   "cell_type": "code",
   "execution_count": 107,
   "metadata": {},
   "outputs": [],
   "source": [
    "modelos = pd.DataFrame({'Modelos': ['Random Forest Classifier', 'Decision Tree Classifier', 'Support Vector Machine',\n",
    "                           'K-Near Neighbors', 'Logistic Model', 'Gausian NB', 'XGBoost', 'Gradient Boosting'],\n",
    "                'Score':  [cv_rfc, cv_dte, cv_svc, cv_knn, cv_logreg, cv_gnb, cv_xgb, cv_gbc]})"
   ]
  },
  {
   "cell_type": "code",
   "execution_count": 108,
   "metadata": {},
   "outputs": [
    {
     "data": {
      "text/html": [
       "<div>\n",
       "<style scoped>\n",
       "    .dataframe tbody tr th:only-of-type {\n",
       "        vertical-align: middle;\n",
       "    }\n",
       "\n",
       "    .dataframe tbody tr th {\n",
       "        vertical-align: top;\n",
       "    }\n",
       "\n",
       "    .dataframe thead th {\n",
       "        text-align: right;\n",
       "    }\n",
       "</style>\n",
       "<table border=\"1\" class=\"dataframe\">\n",
       "  <thead>\n",
       "    <tr style=\"text-align: right;\">\n",
       "      <th></th>\n",
       "      <th>Modelos</th>\n",
       "      <th>Score</th>\n",
       "    </tr>\n",
       "  </thead>\n",
       "  <tbody>\n",
       "    <tr>\n",
       "      <th>7</th>\n",
       "      <td>Gradient Boosting</td>\n",
       "      <td>0.901321</td>\n",
       "    </tr>\n",
       "    <tr>\n",
       "      <th>6</th>\n",
       "      <td>XGBoost</td>\n",
       "      <td>0.900673</td>\n",
       "    </tr>\n",
       "    <tr>\n",
       "      <th>0</th>\n",
       "      <td>Random Forest Classifier</td>\n",
       "      <td>0.897487</td>\n",
       "    </tr>\n",
       "    <tr>\n",
       "      <th>3</th>\n",
       "      <td>K-Near Neighbors</td>\n",
       "      <td>0.891560</td>\n",
       "    </tr>\n",
       "    <tr>\n",
       "      <th>4</th>\n",
       "      <td>Logistic Model</td>\n",
       "      <td>0.888729</td>\n",
       "    </tr>\n",
       "    <tr>\n",
       "      <th>1</th>\n",
       "      <td>Decision Tree Classifier</td>\n",
       "      <td>0.876843</td>\n",
       "    </tr>\n",
       "    <tr>\n",
       "      <th>2</th>\n",
       "      <td>Support Vector Machine</td>\n",
       "      <td>0.830896</td>\n",
       "    </tr>\n",
       "    <tr>\n",
       "      <th>5</th>\n",
       "      <td>Gausian NB</td>\n",
       "      <td>0.828713</td>\n",
       "    </tr>\n",
       "  </tbody>\n",
       "</table>\n",
       "</div>"
      ],
      "text/plain": [
       "                    Modelos     Score\n",
       "7         Gradient Boosting  0.901321\n",
       "6                   XGBoost  0.900673\n",
       "0  Random Forest Classifier  0.897487\n",
       "3          K-Near Neighbors  0.891560\n",
       "4            Logistic Model  0.888729\n",
       "1  Decision Tree Classifier  0.876843\n",
       "2    Support Vector Machine  0.830896\n",
       "5                Gausian NB  0.828713"
      ]
     },
     "execution_count": 108,
     "metadata": {},
     "output_type": "execute_result"
    }
   ],
   "source": [
    "modelos.sort_values(by='Score', ascending=False)"
   ]
  },
  {
   "cell_type": "markdown",
   "metadata": {},
   "source": [
    "# Relatório"
   ]
  },
  {
   "cell_type": "markdown",
   "metadata": {},
   "source": [
    "Os dados mostram que os clientes tem idade entre 18 e 95 anos, com uma idade média de 40.9 anos e um desvio padrão de 10.6 anos. Da distribuição de idades, verificou-se que clientes com mais de 73 anos são considerados outliers, o que corresponde a 1.08% dos clientes. \n",
    "\n",
    "Os clientes que trabalham como blue-collar são os que mais recusaram as propostas de empréstimo, enquanto que os que ocupam posição de gerenciamento aceitam mais propostas. Os clientes casados, receberam e aceitaram mais propostas de empréstimos o que sugere que clientes casados tem mais responsabilidade. Os clientes que possuem apenas ensino médio receberam mais propostas e este mesmo grupo junto com os que possuem ensino superior aceitaram mais empréstimos, indicando que clientes com ensino médio e superior são um bom alvo para ligações. \n",
    "\n",
    "Clientes que não possuíam crédito inicial receberam mais propostas e também tiveram um maior índice de aceitação e já a grande maioria dos que possuíam crédito inicial recusaram a oferta. Clientes que possuem imóvel receberam mais propostas, porém os que não possuem aceitaram mais as ofertas. Os clientes que já haviam feito um empréstimo anteriormente aceitaram menos propostas em relação aos que não tinham empréstimo anterior e o grupo dos clientes sem empréstimo anterior é um alvo melhor.\n",
    "\n",
    "As chamadas telefónicas tiveram uma duração média de 4.3 minutos e um desvio padrão de 4.3 minutos. A chamada com maior duração teve 82.0 minutos. Chamadas com duração superior a 10.7 minutos são outliers. Os clientes que receberam ligações em seus celulares aceitaram mais propostas. \n",
    "\n",
    "O mês de maio foi o que mais teve propostas porém juntamente com o mês de agosto foram os que tiveram mais aceitações porém os dados nos mostram que agosto é o melhor mês para se ligar para o cliente, sendo que a ligação deve ocorrer preferencialmente no inicio da segunda metade do mês. \n",
    "\n",
    "Os clientes que não se sabe se aderiram a empréstimo na campanha anterior aceitaram mais propostas e nota-se que houve um aumento de aceitação daqueles que haviam recusado a proposta anterior. \n",
    "\n",
    "Utilizou-se diferentes modelos de classificação para prever se um cliente irá ou não fazer um empréstimo e de todos estes modelos o Gradiente Boosting apresentou melhor performance junto o modelo XGBoost. \n"
   ]
  }
 ],
 "metadata": {
  "kernelspec": {
   "display_name": "Python 3",
   "language": "python",
   "name": "python3"
  },
  "language_info": {
   "codemirror_mode": {
    "name": "ipython",
    "version": 3
   },
   "file_extension": ".py",
   "mimetype": "text/x-python",
   "name": "python",
   "nbconvert_exporter": "python",
   "pygments_lexer": "ipython3",
   "version": "3.7.3"
  }
 },
 "nbformat": 4,
 "nbformat_minor": 2
}
