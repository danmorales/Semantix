{
 "cells": [
  {
   "cell_type": "code",
   "execution_count": 135,
   "metadata": {},
   "outputs": [],
   "source": [
    "#Importando bibliotecas fundamentais para análise\n",
    "import numpy as np\n",
    "import pandas as pd\n",
    "import matplotlib.pyplot as plt\n",
    "import matplotlib.ticker as ticker\n",
    "import seaborn as sns\n",
    "import warnings\n",
    "warnings.filterwarnings('ignore')"
   ]
  },
  {
   "cell_type": "code",
   "execution_count": 2,
   "metadata": {},
   "outputs": [],
   "source": [
    "#Lendo arquivo CSV bank.csv\n",
    "bank = pd.read_csv('bank.csv',sep=\";\")"
   ]
  },
  {
   "cell_type": "code",
   "execution_count": 3,
   "metadata": {},
   "outputs": [
    {
     "name": "stdout",
     "output_type": "stream",
     "text": [
      "Exibindo número de linhas e colunas\n",
      "Linhas: 4521 Colunas 17\n"
     ]
    }
   ],
   "source": [
    "#Determinando número de linhas e colunas do DataFrame\n",
    "linhas = bank.shape[0]\n",
    "colunas = bank.shape[1]\n",
    "print(\"Linhas: {} Colunas {}\".format(linhas,colunas))"
   ]
  },
  {
   "cell_type": "code",
   "execution_count": 4,
   "metadata": {},
   "outputs": [
    {
     "name": "stdout",
     "output_type": "stream",
     "text": [
      "Nomes das colunas\n",
      "['age' 'job' 'marital' 'education' 'default' 'balance' 'housing' 'loan'\n",
      " 'contact' 'day' 'month' 'duration' 'campaign' 'pdays' 'previous'\n",
      " 'poutcome' 'y']\n"
     ]
    }
   ],
   "source": [
    "#Determinando nomes das colunas\n",
    "nome_colunas = bank.columns.values\n",
    "print(nome_colunas)"
   ]
  },
  {
   "cell_type": "code",
   "execution_count": 6,
   "metadata": {},
   "outputs": [
    {
     "name": "stdout",
     "output_type": "stream",
     "text": [
      "Tipo de variáveis das colunas\n",
      "age           int64\n",
      "job          object\n",
      "marital      object\n",
      "education    object\n",
      "default      object\n",
      "balance       int64\n",
      "housing      object\n",
      "loan         object\n",
      "contact      object\n",
      "day           int64\n",
      "month        object\n",
      "duration      int64\n",
      "campaign      int64\n",
      "pdays         int64\n",
      "previous      int64\n",
      "poutcome     object\n",
      "y            object\n",
      "dtype: object\n"
     ]
    }
   ],
   "source": [
    "#Determinando o tipo de váriavel das colunas\n",
    "tipo_var_colunas = bank.dtypes\n",
    "print(tipo_var_colunas)"
   ]
  },
  {
   "cell_type": "code",
   "execution_count": 7,
   "metadata": {},
   "outputs": [
    {
     "name": "stdout",
     "output_type": "stream",
     "text": [
      "age          0\n",
      "job          0\n",
      "marital      0\n",
      "education    0\n",
      "default      0\n",
      "balance      0\n",
      "housing      0\n",
      "loan         0\n",
      "contact      0\n",
      "day          0\n",
      "month        0\n",
      "duration     0\n",
      "campaign     0\n",
      "pdays        0\n",
      "previous     0\n",
      "poutcome     0\n",
      "y            0\n",
      "dtype: int64\n"
     ]
    }
   ],
   "source": [
    "#Verificando se existem NaNs no dataframe\n",
    "n_nans = bank[bank.isna()].count()\n",
    "print(n_nans)"
   ]
  },
  {
   "cell_type": "code",
   "execution_count": 8,
   "metadata": {},
   "outputs": [
    {
     "name": "stdout",
     "output_type": "stream",
     "text": [
      "<class 'pandas.core.frame.DataFrame'>\n",
      "RangeIndex: 4521 entries, 0 to 4520\n",
      "Data columns (total 17 columns):\n",
      "age          4521 non-null int64\n",
      "job          4521 non-null object\n",
      "marital      4521 non-null object\n",
      "education    4521 non-null object\n",
      "default      4521 non-null object\n",
      "balance      4521 non-null int64\n",
      "housing      4521 non-null object\n",
      "loan         4521 non-null object\n",
      "contact      4521 non-null object\n",
      "day          4521 non-null int64\n",
      "month        4521 non-null object\n",
      "duration     4521 non-null int64\n",
      "campaign     4521 non-null int64\n",
      "pdays        4521 non-null int64\n",
      "previous     4521 non-null int64\n",
      "poutcome     4521 non-null object\n",
      "y            4521 non-null object\n",
      "dtypes: int64(7), object(10)\n",
      "memory usage: 600.5+ KB\n",
      "None\n"
     ]
    }
   ],
   "source": [
    "#Exibindo informações sobre o dado\n",
    "print(bank.info())"
   ]
  },
  {
   "cell_type": "code",
   "execution_count": 9,
   "metadata": {},
   "outputs": [
    {
     "name": "stdout",
     "output_type": "stream",
     "text": [
      "   age          job  marital  education default  balance housing loan  \\\n",
      "0   30   unemployed  married    primary      no     1787      no   no   \n",
      "1   33     services  married  secondary      no     4789     yes  yes   \n",
      "2   35   management   single   tertiary      no     1350     yes   no   \n",
      "3   30   management  married   tertiary      no     1476     yes  yes   \n",
      "4   59  blue-collar  married  secondary      no        0     yes   no   \n",
      "\n",
      "    contact  day month  duration  campaign  pdays  previous poutcome   y  \n",
      "0  cellular   19   oct        79         1     -1         0  unknown  no  \n",
      "1  cellular   11   may       220         1    339         4  failure  no  \n",
      "2  cellular   16   apr       185         1    330         1  failure  no  \n",
      "3   unknown    3   jun       199         4     -1         0  unknown  no  \n",
      "4   unknown    5   may       226         1     -1         0  unknown  no  \n"
     ]
    }
   ],
   "source": [
    "#Exibindo cinco primeiras linhas\n",
    "print(bank.head())"
   ]
  },
  {
   "cell_type": "markdown",
   "metadata": {},
   "source": [
    "Criando um novo DataFrame apenas com informações sobre os clientes"
   ]
  },
  {
   "cell_type": "code",
   "execution_count": 298,
   "metadata": {},
   "outputs": [
    {
     "name": "stdout",
     "output_type": "stream",
     "text": [
      "   age          job  marital  education default housing loan   y\n",
      "0   30   unemployed  married    primary      no      no   no  no\n",
      "1   33     services  married  secondary      no     yes  yes  no\n",
      "2   35   management   single   tertiary      no     yes   no  no\n",
      "3   30   management  married   tertiary      no     yes  yes  no\n",
      "4   59  blue-collar  married  secondary      no     yes   no  no\n"
     ]
    }
   ],
   "source": [
    "coluna_clientes = [\"age\",\"job\",\"marital\",\"education\",\"default\",\"housing\",\"loan\",\"y\"]\n",
    "clientes = bank[coluna_clientes]\n",
    "print(clientes.head())"
   ]
  },
  {
   "cell_type": "markdown",
   "metadata": {},
   "source": [
    "Correlação dados dos clientes"
   ]
  },
  {
   "cell_type": "code",
   "execution_count": 294,
   "metadata": {},
   "outputs": [
    {
     "data": {
      "text/plain": [
       "<matplotlib.axes._subplots.AxesSubplot at 0x1a1cd3b668>"
      ]
     },
     "execution_count": 294,
     "metadata": {},
     "output_type": "execute_result"
    },
    {
     "data": {
      "image/png": "[encoded data removed]",
      "text/plain": [
       "<Figure size 936x504 with 2 Axes>"
      ]
     },
     "metadata": {
      "needs_background": "light"
     },
     "output_type": "display_data"
    }
   ],
   "source": [
    "corr_clientes=clientes.corr()\n",
    "sns.set_context(\"notebook\",font_scale = 1.0, rc = {\"lines.linewidth\":2.5})\n",
    "plt.figure(figsize = (13,7))\n",
    "sns.heatmap(corr_clientes, annot = True, fmt = \".2f\")"
   ]
  },
  {
   "cell_type": "markdown",
   "metadata": {},
   "source": [
    "Vamos agora analisar as variáves categóricas para determinar se eles possuem informações relevantes para a análise do problema"
   ]
  },
  {
   "cell_type": "code",
   "execution_count": 13,
   "metadata": {},
   "outputs": [
    {
     "name": "stdout",
     "output_type": "stream",
     "text": [
      "['unemployed' 'services' 'management' 'blue-collar' 'self-employed'\n",
      " 'technician' 'entrepreneur' 'admin.' 'student' 'housemaid' 'retired'\n",
      " 'unknown']\n"
     ]
    }
   ],
   "source": [
    "#Determinando as profissões\n",
    "jobs = clientes['job'].unique()\n",
    "print(jobs)"
   ]
  },
  {
   "cell_type": "code",
   "execution_count": 15,
   "metadata": {},
   "outputs": [
    {
     "name": "stdout",
     "output_type": "stream",
     "text": [
      "['married' 'single' 'divorced']\n"
     ]
    }
   ],
   "source": [
    "#Determinando os estados civis possiveis dos clientes\n",
    "estado_civil = clientes['marital'].unique()\n",
    "print(estado_civil)"
   ]
  },
  {
   "cell_type": "code",
   "execution_count": 16,
   "metadata": {},
   "outputs": [
    {
     "name": "stdout",
     "output_type": "stream",
     "text": [
      "['primary' 'secondary' 'tertiary' 'unknown']\n"
     ]
    }
   ],
   "source": [
    "#Determinando o grau de estudo dos clientes\n",
    "educacao = clientes['education'].unique()\n",
    "print(educacao)"
   ]
  },
  {
   "cell_type": "code",
   "execution_count": 17,
   "metadata": {},
   "outputs": [
    {
     "name": "stdout",
     "output_type": "stream",
     "text": [
      "['no' 'yes']\n"
     ]
    }
   ],
   "source": [
    "#Determinando as possibilidades para saber se o cliente tem crédito ou não\n",
    "credito = clientes['default'].unique()\n",
    "print(credito)"
   ]
  },
  {
   "cell_type": "code",
   "execution_count": 18,
   "metadata": {},
   "outputs": [
    {
     "name": "stdout",
     "output_type": "stream",
     "text": [
      "['no' 'yes']\n"
     ]
    }
   ],
   "source": [
    "#Determinando as possibilidades para saber se o cliente tem casa ou não\n",
    "credito = clientes['housing'].unique()\n",
    "print(credito)"
   ]
  },
  {
   "cell_type": "code",
   "execution_count": 19,
   "metadata": {},
   "outputs": [
    {
     "name": "stdout",
     "output_type": "stream",
     "text": [
      "['no' 'yes']\n"
     ]
    }
   ],
   "source": [
    "#Determinando as possibilidades para saber se o cliente tem empréstimo pessoal ou não\n",
    "loan = clientes['loan'].unique()\n",
    "print(loan)"
   ]
  },
  {
   "cell_type": "markdown",
   "metadata": {},
   "source": [
    "Estudando a distribuição de idades"
   ]
  },
  {
   "cell_type": "code",
   "execution_count": 45,
   "metadata": {},
   "outputs": [
    {
     "name": "stdout",
     "output_type": "stream",
     "text": [
      "Idade miníma 19\n",
      "Idade máxima 87\n",
      "Idade média 41.2\n",
      "Desvio padrão da idade 10.6\n"
     ]
    }
   ],
   "source": [
    "idade = clientes['age']\n",
    "idade_min = idade.min()\n",
    "idade_max = idade.max()\n",
    "idade_mean = idade.mean()\n",
    "idade_std = idade.std()\n",
    "print(\"Idade miníma {:0.0f}\".format(idade_min))\n",
    "print(\"Idade máxima {:0.0f}\".format(idade_max))\n",
    "print(\"Idade média {:0.1f}\".format(idade_mean))\n",
    "print(\"Desvio padrão da idade {:0.1f}\".format(idade_std))"
   ]
  },
  {
   "cell_type": "markdown",
   "metadata": {},
   "source": [
    "Graficando a distribuição de idades"
   ]
  },
  {
   "cell_type": "code",
   "execution_count": 73,
   "metadata": {},
   "outputs": [
    {
     "data": {
      "image/png": "[encoded data removed]",
      "text/plain": [
       "<Figure size 1440x576 with 1 Axes>"
      ]
     },
     "metadata": {
      "needs_background": "light"
     },
     "output_type": "display_data"
    }
   ],
   "source": [
    "fig,ax = plt.subplots()\n",
    "fig.set_size_inches(20, 8)\n",
    "sns.countplot(x = 'age', data = clientes)\n",
    "ax.set_xlabel('Idade', fontsize=15)\n",
    "ax.set_ylabel('Contagem', fontsize=15)\n",
    "ax.set_title('Distribuição de idade', fontsize=15)\n",
    "plt.tight_layout()"
   ]
  },
  {
   "cell_type": "markdown",
   "metadata": {},
   "source": [
    "Box plot da distribuição de idades para localizarmos outliers"
   ]
  },
  {
   "cell_type": "code",
   "execution_count": 79,
   "metadata": {},
   "outputs": [
    {
     "data": {
      "image/png": "[encoded data removed]",
      "text/plain": [
       "<Figure size 576x360 with 1 Axes>"
      ]
     },
     "metadata": {
      "needs_background": "light"
     },
     "output_type": "display_data"
    }
   ],
   "source": [
    "fig, ax = plt.subplots(figsize = (8, 5))\n",
    "sns.boxplot(x = 'age', data = clientes, orient = 'v', ax = ax)\n",
    "ax.set_ylabel('Idades', fontsize=15)\n",
    "ax.set_title('Distribuição de idades', fontsize=15)\n",
    "ax.tick_params(labelsize=15)\n",
    "plt.tight_layout() "
   ]
  },
  {
   "cell_type": "markdown",
   "metadata": {},
   "source": [
    "Determinando valores dos quartis para detectarmos a partir de qual idade temos outliers"
   ]
  },
  {
   "cell_type": "code",
   "execution_count": 87,
   "metadata": {},
   "outputs": [
    {
     "name": "stdout",
     "output_type": "stream",
     "text": [
      "Primeiro quartil = 33.0\n",
      "Segundo quartil = 39.0\n",
      "Terceiro quartil = 49.0\n",
      "Quarto quartil = 87.0\n",
      "Outliers = 73.0\n"
     ]
    }
   ],
   "source": [
    "q1 = clientes['age'].quantile(q = 0.25)\n",
    "q2 = clientes['age'].quantile(q = 0.50)\n",
    "q3 = clientes['age'].quantile(q = 0.75)\n",
    "q4 = clientes['age'].quantile(q = 1.00)\n",
    "outliers = q3 + 1.5*(q3-q1)\n",
    "print(\"Primeiro quartil = {:0.1f}\".format(q1))\n",
    "print(\"Segundo quartil = {:0.1f}\".format(q2))\n",
    "print(\"Terceiro quartil = {:0.1f}\".format(q3))\n",
    "print(\"Quarto quartil = {:0.1f}\".format(q4))\n",
    "print(\"Outliers = {:0.1f}\".format(outliers))"
   ]
  },
  {
   "cell_type": "markdown",
   "metadata": {},
   "source": [
    "Idades acima de 73 anos são outliers"
   ]
  },
  {
   "cell_type": "code",
   "execution_count": 110,
   "metadata": {},
   "outputs": [
    {
     "name": "stdout",
     "output_type": "stream",
     "text": [
      "Numero de outliers = 38\n",
      "Numero de outliers = 0.84 %\n"
     ]
    }
   ],
   "source": [
    "num_outliers = clientes[clientes['age'] > outliers]['age'].count()\n",
    "print(\"Numero de outliers = {:0.0f}\".format(num_outliers))\n",
    "perc_num_outliers = 100.0*num_outliers/len(clientes)\n",
    "print(\"Numero de outliers = {:0.2f} %\".format(perc_num_outliers))"
   ]
  },
  {
   "cell_type": "markdown",
   "metadata": {},
   "source": [
    "Graficando a distribuição de profissões"
   ]
  },
  {
   "cell_type": "code",
   "execution_count": 122,
   "metadata": {},
   "outputs": [
    {
     "data": {
      "image/png": "[encoded data removed]",
      "text/plain": [
       "<Figure size 1440x576 with 1 Axes>"
      ]
     },
     "metadata": {
      "needs_background": "light"
     },
     "output_type": "display_data"
    }
   ],
   "source": [
    "fig,ax = plt.subplots()\n",
    "fig.set_size_inches(20, 8)\n",
    "sns.countplot(x = 'job', data = clientes, hue='y')\n",
    "ax.set_xlabel('Profissão', fontsize=15)\n",
    "ax.set_ylabel('Contagem', fontsize=15)\n",
    "ax.set_title('Distribuição de profissão', fontsize=15)\n",
    "plt.tight_layout()"
   ]
  },
  {
   "cell_type": "markdown",
   "metadata": {},
   "source": [
    "Analisando o estado civil dos clientes"
   ]
  },
  {
   "cell_type": "code",
   "execution_count": 121,
   "metadata": {},
   "outputs": [
    {
     "data": {
      "image/png": "[encoded data removed]",
      "text/plain": [
       "<Figure size 1440x576 with 1 Axes>"
      ]
     },
     "metadata": {
      "needs_background": "light"
     },
     "output_type": "display_data"
    }
   ],
   "source": [
    "fig,ax = plt.subplots()\n",
    "fig.set_size_inches(20, 8)\n",
    "sns.countplot(x = 'marital', data = clientes, hue='y')\n",
    "ax.set_xlabel('Estado civil', fontsize=15)\n",
    "ax.set_ylabel('Contagem', fontsize=15)\n",
    "ax.set_title('Distribuição de estado cívil', fontsize=15)\n",
    "plt.tight_layout()"
   ]
  },
  {
   "cell_type": "markdown",
   "metadata": {},
   "source": [
    "Analisando a distribuição de educação"
   ]
  },
  {
   "cell_type": "code",
   "execution_count": 123,
   "metadata": {},
   "outputs": [
    {
     "data": {
      "image/png": "[encoded data removed]",
      "text/plain": [
       "<Figure size 1440x576 with 1 Axes>"
      ]
     },
     "metadata": {
      "needs_background": "light"
     },
     "output_type": "display_data"
    }
   ],
   "source": [
    "fig,ax = plt.subplots()\n",
    "fig.set_size_inches(20, 8)\n",
    "sns.countplot(x = 'education', data = clientes, hue='y')\n",
    "ax.set_xlabel('Educação', fontsize=15)\n",
    "ax.set_ylabel('Contagem', fontsize=15)\n",
    "ax.set_title('Distribuição de educação', fontsize=15)\n",
    "plt.tight_layout()"
   ]
  },
  {
   "cell_type": "markdown",
   "metadata": {},
   "source": [
    "Analisando o perfil de crédito"
   ]
  },
  {
   "cell_type": "code",
   "execution_count": 124,
   "metadata": {},
   "outputs": [
    {
     "data": {
      "image/png": "[encoded data removed]",
      "text/plain": [
       "<Figure size 1440x576 with 1 Axes>"
      ]
     },
     "metadata": {
      "needs_background": "light"
     },
     "output_type": "display_data"
    }
   ],
   "source": [
    "fig,ax = plt.subplots()\n",
    "fig.set_size_inches(20, 8)\n",
    "sns.countplot(x = 'default', data = clientes, hue='y')\n",
    "ax.set_xlabel('Credito inicial', fontsize=15)\n",
    "ax.set_ylabel('Contagem', fontsize=15)\n",
    "ax.set_title('Distribuição de credito', fontsize=15)\n",
    "plt.tight_layout()"
   ]
  },
  {
   "cell_type": "markdown",
   "metadata": {},
   "source": [
    "Analisando o perfil de cliente que tem ou não casa"
   ]
  },
  {
   "cell_type": "code",
   "execution_count": 299,
   "metadata": {},
   "outputs": [
    {
     "data": {
      "image/png": "[encoded data removed]",
      "text/plain": [
       "<Figure size 1440x576 with 1 Axes>"
      ]
     },
     "metadata": {
      "needs_background": "light"
     },
     "output_type": "display_data"
    }
   ],
   "source": [
    "fig,ax = plt.subplots()\n",
    "fig.set_size_inches(20, 8)\n",
    "sns.countplot(x = 'housing', data = clientes, hue='y')\n",
    "ax.set_xlabel('Possui imovel', fontsize=15)\n",
    "ax.set_ylabel('Contagem', fontsize=15)\n",
    "ax.set_title('Distribuição de imovel', fontsize=15)\n",
    "plt.tight_layout()"
   ]
  },
  {
   "cell_type": "markdown",
   "metadata": {},
   "source": [
    "Analisando o perfil de clientes que já tem ou não emprestimo"
   ]
  },
  {
   "cell_type": "code",
   "execution_count": 127,
   "metadata": {},
   "outputs": [
    {
     "data": {
      "image/png": "[encoded data removed]",
      "text/plain": [
       "<Figure size 1440x576 with 1 Axes>"
      ]
     },
     "metadata": {
      "needs_background": "light"
     },
     "output_type": "display_data"
    }
   ],
   "source": [
    "fig,ax = plt.subplots()\n",
    "fig.set_size_inches(20, 8)\n",
    "sns.countplot(x = 'loan', data = clientes, hue='y')\n",
    "ax.set_xlabel('Empréstimo', fontsize=15)\n",
    "ax.set_ylabel('Contagem', fontsize=15)\n",
    "ax.set_title('Distribuição de empréstimo', fontsize=15)\n",
    "plt.tight_layout()"
   ]
  },
  {
   "cell_type": "markdown",
   "metadata": {},
   "source": [
    "Convertendo variáveis categóricas, presentes no DataFrame Clientes, para valores numéricos"
   ]
  },
  {
   "cell_type": "code",
   "execution_count": 128,
   "metadata": {},
   "outputs": [],
   "source": [
    "from sklearn.preprocessing import LabelEncoder\n",
    "enconder = LabelEncoder()"
   ]
  },
  {
   "cell_type": "code",
   "execution_count": 136,
   "metadata": {},
   "outputs": [],
   "source": [
    "clientes['job']      = enconder.fit_transform(clientes['job']) \n",
    "clientes['marital']  = enconder.fit_transform(clientes['marital']) \n",
    "clientes['education']= enconder.fit_transform(clientes['education']) \n",
    "clientes['default']  = enconder.fit_transform(clientes['default']) \n",
    "clientes['housing']  = enconder.fit_transform(clientes['housing']) \n",
    "clientes['loan']     = enconder.fit_transform(clientes['loan']) \n",
    "clientes['y']        = enconder.fit_transform(clientes['y']) "
   ]
  },
  {
   "cell_type": "code",
   "execution_count": 130,
   "metadata": {},
   "outputs": [
    {
     "name": "stdout",
     "output_type": "stream",
     "text": [
      "   age  job  marital  education  default  housing  loan  y\n",
      "0   30   10        1          0        0        0     0  0\n",
      "1   33    7        1          1        0        1     1  0\n",
      "2   35    4        2          2        0        1     0  0\n",
      "3   30    4        1          2        0        1     1  0\n",
      "4   59    1        1          1        0        1     0  0\n"
     ]
    }
   ],
   "source": [
    "#Verificando se a conversão foi bem sucessida\n",
    "print(clientes.head())"
   ]
  },
  {
   "cell_type": "markdown",
   "metadata": {},
   "source": [
    "Criando grupo de clientes baseado em suas idades\n",
    "\n",
    "Grupo 1: idade <= 30\n",
    "\n",
    "Grupo 2: 30<idade<=50\n",
    "\n",
    "Grupo 3: 50<idade<=70\n",
    "\n",
    "Grupo 4: idade>70"
   ]
  },
  {
   "cell_type": "code",
   "execution_count": 131,
   "metadata": {},
   "outputs": [],
   "source": [
    "def grupo_idade(dados):\n",
    "    dados.loc[dados['age'] <= 30, 'age'] = 1\n",
    "    dados.loc[(dados['age'] > 30) & (dados['age'] <= 50), 'age'] = 2\n",
    "    dados.loc[(dados['age'] > 50) & (dados['age'] <= 70), 'age'] = 3\n",
    "    dados.loc[dados['age'] > 70, 'age'] = 4\n",
    "           \n",
    "    return dados"
   ]
  },
  {
   "cell_type": "code",
   "execution_count": 137,
   "metadata": {},
   "outputs": [],
   "source": [
    "clientes = grupo_idade(clientes)"
   ]
  },
  {
   "cell_type": "code",
   "execution_count": 134,
   "metadata": {},
   "outputs": [
    {
     "name": "stdout",
     "output_type": "stream",
     "text": [
      "   age  job  marital  education  default  housing  loan  y\n",
      "0    1   10        1          0        0        0     0  0\n",
      "1    2    7        1          1        0        1     1  0\n",
      "2    2    4        2          2        0        1     0  0\n",
      "3    1    4        1          2        0        1     1  0\n",
      "4    3    1        1          1        0        1     0  0\n"
     ]
    }
   ],
   "source": [
    "#Verificando o DataFrame para verificar se o perfil da idade está correto\n",
    "print(clientes.head())"
   ]
  },
  {
   "cell_type": "markdown",
   "metadata": {},
   "source": [
    "Analisando agora os dados relacionados ao contato com o cliente"
   ]
  },
  {
   "cell_type": "code",
   "execution_count": 145,
   "metadata": {},
   "outputs": [],
   "source": [
    "colunas = ['contact','month','day','duration','y']\n",
    "contato = bank[colunas]"
   ]
  },
  {
   "cell_type": "code",
   "execution_count": 146,
   "metadata": {},
   "outputs": [
    {
     "name": "stdout",
     "output_type": "stream",
     "text": [
      "    contact month  day  duration   y\n",
      "0  cellular   oct   19        79  no\n",
      "1  cellular   may   11       220  no\n",
      "2  cellular   apr   16       185  no\n",
      "3   unknown   jun    3       199  no\n",
      "4   unknown   may    5       226  no\n"
     ]
    }
   ],
   "source": [
    "print(contato.head())"
   ]
  },
  {
   "cell_type": "markdown",
   "metadata": {},
   "source": [
    "Correlação contato"
   ]
  },
  {
   "cell_type": "code",
   "execution_count": 295,
   "metadata": {},
   "outputs": [
    {
     "data": {
      "text/plain": [
       "<matplotlib.axes._subplots.AxesSubplot at 0x1a1f635d68>"
      ]
     },
     "execution_count": 295,
     "metadata": {},
     "output_type": "execute_result"
    },
    {
     "data": {
      "image/png": "[encoded data removed]",
      "text/plain": [
       "<Figure size 936x504 with 2 Axes>"
      ]
     },
     "metadata": {
      "needs_background": "light"
     },
     "output_type": "display_data"
    }
   ],
   "source": [
    "corr_contato=contato.corr()\n",
    "sns.set_context(\"notebook\",font_scale = 1.0, rc = {\"lines.linewidth\":2.5})\n",
    "plt.figure(figsize = (13,7))\n",
    "sns.heatmap(corr_contato, annot = True, fmt = \".2f\")"
   ]
  },
  {
   "cell_type": "markdown",
   "metadata": {},
   "source": [
    "Determinando os tipos de contato"
   ]
  },
  {
   "cell_type": "code",
   "execution_count": 141,
   "metadata": {},
   "outputs": [
    {
     "name": "stdout",
     "output_type": "stream",
     "text": [
      "['cellular' 'unknown' 'telephone']\n"
     ]
    }
   ],
   "source": [
    "tipo_contato = contato['contact'].unique()\n",
    "print(tipo_contato)"
   ]
  },
  {
   "cell_type": "markdown",
   "metadata": {},
   "source": [
    "Determinando os meses da campanha"
   ]
  },
  {
   "cell_type": "code",
   "execution_count": 142,
   "metadata": {},
   "outputs": [
    {
     "name": "stdout",
     "output_type": "stream",
     "text": [
      "['oct' 'may' 'apr' 'jun' 'feb' 'aug' 'jan' 'jul' 'nov' 'sep' 'mar' 'dec']\n"
     ]
    }
   ],
   "source": [
    "mes_campanha = contato['month'].unique()\n",
    "print(mes_campanha)"
   ]
  },
  {
   "cell_type": "markdown",
   "metadata": {},
   "source": [
    "Determinando os dias da campanha"
   ]
  },
  {
   "cell_type": "code",
   "execution_count": 143,
   "metadata": {},
   "outputs": [
    {
     "name": "stdout",
     "output_type": "stream",
     "text": [
      "[19 11 16  3  5 23 14  6 17 20 13 30 29 27  7 18 12 21 26 22  2  4 15  8\n",
      " 28  9  1 10 31 25 24]\n"
     ]
    }
   ],
   "source": [
    "dia_campanha = contato['day'].unique()\n",
    "print(dia_campanha)"
   ]
  },
  {
   "cell_type": "markdown",
   "metadata": {},
   "source": [
    "Analisando a duração das chamadas"
   ]
  },
  {
   "cell_type": "code",
   "execution_count": 150,
   "metadata": {},
   "outputs": [
    {
     "data": {
      "image/png": "[encoded data removed]",
      "text/plain": [
       "<Figure size 1440x576 with 1 Axes>"
      ]
     },
     "metadata": {
      "needs_background": "light"
     },
     "output_type": "display_data"
    }
   ],
   "source": [
    "fig,ax = plt.subplots()\n",
    "fig.set_size_inches(20, 8)\n",
    "sns.boxplot(x = 'duration', data = contato, hue='y', orient = 'v')\n",
    "ax.set_xlabel('Chamada', fontsize=15)\n",
    "ax.set_ylabel('Duração', fontsize=15)\n",
    "ax.set_title('Distribuição das chamadas', fontsize=15)\n",
    "plt.tight_layout()"
   ]
  },
  {
   "cell_type": "code",
   "execution_count": 153,
   "metadata": {},
   "outputs": [
    {
     "data": {
      "image/png": "[encoded data removed]",
      "text/plain": [
       "<Figure size 1440x576 with 1 Axes>"
      ]
     },
     "metadata": {
      "needs_background": "light"
     },
     "output_type": "display_data"
    }
   ],
   "source": [
    "fig,ax = plt.subplots()\n",
    "fig.set_size_inches(20, 8)\n",
    "sns.distplot(contato['duration'])\n",
    "sns.despine(ax = ax)\n",
    "ax.set_xlabel('Duração da chamada', fontsize=10)\n",
    "ax.set_ylabel('Ocorrencia', fontsize=10)\n",
    "ax.set_title('Duração x Ocorrencia', fontsize=10)\n",
    "ax.tick_params(labelsize=10)\n",
    "plt.tight_layout()"
   ]
  },
  {
   "cell_type": "code",
   "execution_count": 158,
   "metadata": {},
   "outputs": [
    {
     "name": "stdout",
     "output_type": "stream",
     "text": [
      "Duração mínima: 0.1 minutos\n",
      "Duração máxima: 50.4 minutos\n",
      "Duração média: 4.4 minutos\n",
      "Duração std: 4.3 minutos\n"
     ]
    }
   ],
   "source": [
    "duracao_min = contato['duration'].min()/60.0\n",
    "print(\"Duração mínima: {:0.1f} minutos\".format(duracao_min))\n",
    "duracao_max = contato['duration'].max()/60.0\n",
    "print(\"Duração máxima: {:0.1f} minutos\".format(duracao_max))\n",
    "duracao_mean = contato['duration'].mean()/60.0\n",
    "print(\"Duração média: {:0.1f} minutos\".format(duracao_mean))\n",
    "duracao_std = contato['duration'].std()/60.0\n",
    "print(\"Duração std: {:0.1f} minutos\".format(duracao_std))"
   ]
  },
  {
   "cell_type": "code",
   "execution_count": 161,
   "metadata": {},
   "outputs": [
    {
     "name": "stdout",
     "output_type": "stream",
     "text": [
      "Primeiro quartil = 1.7\n",
      "Segundo quartil = 3.1\n",
      "Terceiro quartil = 5.5\n",
      "Quarto quartil = 50.4\n",
      "Outliers = 11.1\n"
     ]
    }
   ],
   "source": [
    "q1c = contato['duration'].quantile(q = 0.25)/60.0\n",
    "q2c = contato['duration'].quantile(q = 0.50)/60.0\n",
    "q3c = contato['duration'].quantile(q = 0.75)/60.0\n",
    "q4c = contato['duration'].quantile(q = 1.00)/60.0\n",
    "outliers_c = q3c + 1.5*(q3c-q1c)\n",
    "print(\"Primeiro quartil = {:0.1f}\".format(q1c))\n",
    "print(\"Segundo quartil = {:0.1f}\".format(q2c))\n",
    "print(\"Terceiro quartil = {:0.1f}\".format(q3c))\n",
    "print(\"Quarto quartil = {:0.1f}\".format(q4c))\n",
    "print(\"Outliers = {:0.1f}\".format(outliers_c))"
   ]
  },
  {
   "cell_type": "markdown",
   "metadata": {},
   "source": [
    "Chamadas com mais de 11.1 minutos são outliers"
   ]
  },
  {
   "cell_type": "code",
   "execution_count": 163,
   "metadata": {},
   "outputs": [
    {
     "name": "stdout",
     "output_type": "stream",
     "text": [
      "Numero de outliers = 330\n",
      "Numero de outliers = 7.30 %\n"
     ]
    }
   ],
   "source": [
    "num_outliers_c = contato[contato['duration'] > outliers_c*60.0]['duration'].count()\n",
    "print(\"Numero de outliers = {:0.0f}\".format(num_outliers_c))\n",
    "perc_num_outliers_c = 100.0*num_outliers_c/len(contato)\n",
    "print(\"Numero de outliers = {:0.2f} %\".format(perc_num_outliers_c))"
   ]
  },
  {
   "cell_type": "markdown",
   "metadata": {},
   "source": [
    "Verificando registros de chamadas não atendidas"
   ]
  },
  {
   "cell_type": "code",
   "execution_count": 167,
   "metadata": {},
   "outputs": [
    {
     "name": "stdout",
     "output_type": "stream",
     "text": [
      "contact     0\n",
      "month       0\n",
      "day         0\n",
      "duration    0\n",
      "y           0\n",
      "dtype: int64\n"
     ]
    }
   ],
   "source": [
    "chamadas_neg = contato[(contato['duration'] == 0)].count()\n",
    "print(chamadas_neg)"
   ]
  },
  {
   "cell_type": "markdown",
   "metadata": {},
   "source": [
    "Distribuição dos contatos telefonicos"
   ]
  },
  {
   "cell_type": "code",
   "execution_count": 168,
   "metadata": {},
   "outputs": [
    {
     "data": {
      "image/png": "[encoded data removed]",
      "text/plain": [
       "<Figure size 1440x576 with 1 Axes>"
      ]
     },
     "metadata": {
      "needs_background": "light"
     },
     "output_type": "display_data"
    }
   ],
   "source": [
    "fig,ax = plt.subplots()\n",
    "fig.set_size_inches(20, 8)\n",
    "sns.countplot(x = 'contact', data = contato, hue='y')\n",
    "ax.set_xlabel('Tipo de contato', fontsize=15)\n",
    "ax.set_ylabel('Contagem', fontsize=15)\n",
    "ax.set_title('Distribuição de contatos', fontsize=15)\n",
    "plt.tight_layout()"
   ]
  },
  {
   "cell_type": "code",
   "execution_count": 170,
   "metadata": {},
   "outputs": [
    {
     "data": {
      "image/png": "[encoded data removed]",
      "text/plain": [
       "<Figure size 1440x576 with 1 Axes>"
      ]
     },
     "metadata": {
      "needs_background": "light"
     },
     "output_type": "display_data"
    }
   ],
   "source": [
    "fig,ax = plt.subplots()\n",
    "fig.set_size_inches(20, 8)\n",
    "sns.countplot(x = 'month', data = contato, hue='y', order = ['jan','fev','mar', 'apr', 'may', 'jun', 'jul', 'aug', 'sep', 'oct', 'nov', 'dec'])\n",
    "ax.set_xlabel('Mês de contato', fontsize=15)\n",
    "ax.set_ylabel('Contagem', fontsize=15)\n",
    "ax.set_title('Distribuição dos meses', fontsize=15)\n",
    "plt.tight_layout()"
   ]
  },
  {
   "cell_type": "code",
   "execution_count": 172,
   "metadata": {},
   "outputs": [
    {
     "data": {
      "image/png": "[encoded data removed]",
      "text/plain": [
       "<Figure size 1440x576 with 1 Axes>"
      ]
     },
     "metadata": {
      "needs_background": "light"
     },
     "output_type": "display_data"
    }
   ],
   "source": [
    "fig,ax = plt.subplots()\n",
    "fig.set_size_inches(20, 8)\n",
    "sns.countplot(x = 'day', data = contato, hue='y', order = list(range(1,32)))\n",
    "ax.set_xlabel('Dia de contato', fontsize=15)\n",
    "ax.set_ylabel('Contagem', fontsize=15)\n",
    "ax.set_title('Distribuição dos dias', fontsize=15)\n",
    "plt.tight_layout()"
   ]
  },
  {
   "cell_type": "markdown",
   "metadata": {},
   "source": [
    "Criando grupo de contato baseado na duração da chamada"
   ]
  },
  {
   "cell_type": "code",
   "execution_count": 174,
   "metadata": {},
   "outputs": [],
   "source": [
    "def grupo_duracao(duracao):\n",
    "    duracao.loc[duracao['duration'] <= 120, 'duration'] = 1\n",
    "    duracao.loc[(duracao['duration'] > 120) & (duracao['duration'] <= 180), 'duration'] = 2\n",
    "    duracao.loc[(duracao['duration'] > 180) & (duracao['duration'] <= 300), 'duration'] = 3\n",
    "    duracao.loc[(duracao['duration'] > 300) & (duracao['duration'] <= 600), 'duration'] = 4\n",
    "    duracao.loc[duracao['duration'] > 600, 'duration'] = 5\n",
    "           \n",
    "    return duracao"
   ]
  },
  {
   "cell_type": "code",
   "execution_count": 175,
   "metadata": {},
   "outputs": [],
   "source": [
    "contato = grupo_duracao(contato)"
   ]
  },
  {
   "cell_type": "code",
   "execution_count": 177,
   "metadata": {},
   "outputs": [
    {
     "name": "stdout",
     "output_type": "stream",
     "text": [
      "    contact month  day  duration   y\n",
      "0  cellular   oct   19         1  no\n",
      "1  cellular   may   11         3  no\n",
      "2  cellular   apr   16         3  no\n",
      "3   unknown   jun    3         3  no\n",
      "4   unknown   may    5         3  no\n"
     ]
    }
   ],
   "source": [
    "#Verificando se a conversão foi bem sucedida\n",
    "print(contato.head())"
   ]
  },
  {
   "cell_type": "markdown",
   "metadata": {},
   "source": [
    "Convertendo variáveis categóricas de contato para valores numéricos"
   ]
  },
  {
   "cell_type": "code",
   "execution_count": 178,
   "metadata": {},
   "outputs": [],
   "source": [
    "from sklearn.preprocessing import LabelEncoder\n",
    "enconder = LabelEncoder()"
   ]
  },
  {
   "cell_type": "code",
   "execution_count": 180,
   "metadata": {},
   "outputs": [],
   "source": [
    "contato['contact'] = enconder.fit_transform(contato['contact']) \n",
    "contato['month'] = enconder.fit_transform(contato['month']) \n",
    "contato['y'] = enconder.fit_transform(contato['y']) "
   ]
  },
  {
   "cell_type": "code",
   "execution_count": 181,
   "metadata": {},
   "outputs": [
    {
     "name": "stdout",
     "output_type": "stream",
     "text": [
      "   contact  month  day  duration  y\n",
      "0        0     10   19         1  0\n",
      "1        0      8   11         3  0\n",
      "2        0      0   16         3  0\n",
      "3        2      6    3         3  0\n",
      "4        2      8    5         3  0\n"
     ]
    }
   ],
   "source": [
    "#Verificando se a conversão foi bem sucessida\n",
    "print(contato.head())"
   ]
  },
  {
   "cell_type": "markdown",
   "metadata": {},
   "source": [
    "Analisando os atributos da campanha"
   ]
  },
  {
   "cell_type": "code",
   "execution_count": 183,
   "metadata": {},
   "outputs": [],
   "source": [
    "colunas_camp = ['campaign','pdays','previous','poutcome','y']\n",
    "campanha = bank[colunas_camp]"
   ]
  },
  {
   "cell_type": "code",
   "execution_count": 184,
   "metadata": {},
   "outputs": [
    {
     "name": "stdout",
     "output_type": "stream",
     "text": [
      "   campaign  pdays  previous poutcome   y\n",
      "0         1     -1         0  unknown  no\n",
      "1         1    339         4  failure  no\n",
      "2         1    330         1  failure  no\n",
      "3         4     -1         0  unknown  no\n",
      "4         1     -1         0  unknown  no\n"
     ]
    }
   ],
   "source": [
    "print(campanha.head())"
   ]
  },
  {
   "cell_type": "code",
   "execution_count": 296,
   "metadata": {},
   "outputs": [
    {
     "data": {
      "text/plain": [
       "<matplotlib.axes._subplots.AxesSubplot at 0x1a1e9de6d8>"
      ]
     },
     "execution_count": 296,
     "metadata": {},
     "output_type": "execute_result"
    },
    {
     "data": {
      "image/png": "[encoded data removed]",
      "text/plain": [
       "<Figure size 936x504 with 2 Axes>"
      ]
     },
     "metadata": {
      "needs_background": "light"
     },
     "output_type": "display_data"
    }
   ],
   "source": [
    "corr_campanha=campanha.corr()\n",
    "sns.set_context(\"notebook\",font_scale = 1.0, rc = {\"lines.linewidth\":2.5})\n",
    "plt.figure(figsize = (13,7))\n",
    "sns.heatmap(corr_campanha, annot = True, fmt = \".2f\")"
   ]
  },
  {
   "cell_type": "markdown",
   "metadata": {},
   "source": [
    "Determinando os números de contatos"
   ]
  },
  {
   "cell_type": "code",
   "execution_count": 185,
   "metadata": {},
   "outputs": [
    {
     "name": "stdout",
     "output_type": "stream",
     "text": [
      "[ 1  4  2  5  3  6 18 10  9  7 12 14 13 24 11  8 29 32 16 22 15 30 25 21\n",
      " 17 19 23 20 50 28 31 44]\n"
     ]
    }
   ],
   "source": [
    "print(campanha['campaign'].unique())"
   ]
  },
  {
   "cell_type": "markdown",
   "metadata": {},
   "source": [
    "Determinando o número de possiveis dias que se passaram"
   ]
  },
  {
   "cell_type": "code",
   "execution_count": 186,
   "metadata": {},
   "outputs": [
    {
     "name": "stdout",
     "output_type": "stream",
     "text": [
      "[ -1 339 330 176 147 241 152 105 342 101   5  92  56 170 182 297 196 460\n",
      " 137 367 145 169 207 266 288 168 345 436  90 183 146 335 347 119   7 271\n",
      " 181  88 141 126  61 373 351 242  62  91 308 250 172 265  78  28  79   1\n",
      " 188 167  89 164 462 209 321 254  94 364  96 356 149 363 275 325 341 260\n",
      " 358  87 303  98 327 337 322 102  99 370  84 212  63  81 191 360 332  80\n",
      "  85 247 150 175 382 261 336  58 206 112 199 133 208 253 135 278 140 298\n",
      " 273 124 281 162 323 349 117   2 256 333 116 268 136 198 357 259 353 174\n",
      " 371 205 246  69 315 110 461 184 270 127 187  64 130 346 100 352 808 113\n",
      " 378 292 287 107 293 139 138 193 274  97 103 359 185 674 211 300 334 280\n",
      " 479  95 262 362 225   3 366  60 190 368 122 343 131 365 299 115 316 180\n",
      " 154 313 264 350  73 232 204 143 375 186 344 210 248 177 221 189 104 258\n",
      " 305 171 120 317 178 386 118 404 374 282 179 284 227 291 173 871 238 294\n",
      " 222 435 340 426 239  83 111 415 255 235 244  38 683 329  59 151 192 158\n",
      " 338 388 165 348 197 295 109 484 326 369 397 414 319 474  93 249 272 355\n",
      " 195  82 541 231 153 201 761 114 385 267 161 467  75 106 223 312 148 309\n",
      " 283  86 166 160 450 500 311 123 159 687 224 361  74  76 286  77  57 219\n",
      " 331 804 144 234]\n"
     ]
    }
   ],
   "source": [
    "print(campanha['pdays'].unique())"
   ]
  },
  {
   "cell_type": "markdown",
   "metadata": {},
   "source": [
    "Determinando o número de contatos antes da campanha"
   ]
  },
  {
   "cell_type": "code",
   "execution_count": 187,
   "metadata": {},
   "outputs": [
    {
     "name": "stdout",
     "output_type": "stream",
     "text": [
      "[ 0  4  1  3  2  5 20  7  6 10  9  8 18 19 12 13 11 14 15 24 17 22 23 25]\n"
     ]
    }
   ],
   "source": [
    "print(campanha['previous'].unique())"
   ]
  },
  {
   "cell_type": "markdown",
   "metadata": {},
   "source": [
    "Determinando os resultados da última campanha"
   ]
  },
  {
   "cell_type": "code",
   "execution_count": 188,
   "metadata": {},
   "outputs": [
    {
     "name": "stdout",
     "output_type": "stream",
     "text": [
      "['unknown' 'failure' 'other' 'success']\n"
     ]
    }
   ],
   "source": [
    "print(campanha['poutcome'].unique())"
   ]
  },
  {
   "cell_type": "markdown",
   "metadata": {},
   "source": [
    "Graficando distribuição anterior"
   ]
  },
  {
   "cell_type": "code",
   "execution_count": 190,
   "metadata": {},
   "outputs": [
    {
     "data": {
      "image/png": "[encoded data removed]",
      "text/plain": [
       "<Figure size 1440x576 with 1 Axes>"
      ]
     },
     "metadata": {
      "needs_background": "light"
     },
     "output_type": "display_data"
    }
   ],
   "source": [
    "fig,ax = plt.subplots()\n",
    "fig.set_size_inches(20, 8)\n",
    "sns.countplot(x = 'poutcome', data = campanha, hue='y')\n",
    "ax.set_xlabel('Resultado', fontsize=15)\n",
    "ax.set_ylabel('Contagem', fontsize=15)\n",
    "ax.set_title('Distribuição dos resultados', fontsize=15)\n",
    "plt.tight_layout()"
   ]
  },
  {
   "cell_type": "markdown",
   "metadata": {},
   "source": [
    "Convertendo variaveis categórias da campanha para valores numéricos"
   ]
  },
  {
   "cell_type": "code",
   "execution_count": 191,
   "metadata": {},
   "outputs": [],
   "source": [
    "from sklearn.preprocessing import LabelEncoder\n",
    "enconder = LabelEncoder()"
   ]
  },
  {
   "cell_type": "code",
   "execution_count": 195,
   "metadata": {},
   "outputs": [],
   "source": [
    "campanha['poutcome'] = enconder.fit_transform(campanha['poutcome']) \n",
    "campanha['y'] = enconder.fit_transform(campanha['y']) "
   ]
  },
  {
   "cell_type": "code",
   "execution_count": 196,
   "metadata": {},
   "outputs": [
    {
     "name": "stdout",
     "output_type": "stream",
     "text": [
      "   campaign  pdays  previous  poutcome  y\n",
      "0         1     -1         0         3  0\n",
      "1         1    339         4         0  0\n",
      "2         1    330         1         0  0\n",
      "3         4     -1         0         3  0\n",
      "4         1     -1         0         3  0\n"
     ]
    }
   ],
   "source": [
    "#Verificando se a conversão foi bem sucedida\n",
    "print(campanha.head())"
   ]
  },
  {
   "cell_type": "markdown",
   "metadata": {},
   "source": [
    "Isolando a variável do resultado final"
   ]
  },
  {
   "cell_type": "code",
   "execution_count": 199,
   "metadata": {},
   "outputs": [],
   "source": [
    "resultado = pd.get_dummies(bank['y'], columns = ['y'], prefix = ['y'], drop_first = True)"
   ]
  },
  {
   "cell_type": "markdown",
   "metadata": {},
   "source": [
    "Removendo a coluna do resultado de todos os DataFrames"
   ]
  },
  {
   "cell_type": "code",
   "execution_count": 203,
   "metadata": {},
   "outputs": [
    {
     "name": "stdout",
     "output_type": "stream",
     "text": [
      "   campaign  pdays  previous  poutcome\n",
      "0         1     -1         0         3\n",
      "1         1    339         4         0\n",
      "2         1    330         1         0\n",
      "3         4     -1         0         3\n",
      "4         1     -1         0         3\n"
     ]
    }
   ],
   "source": [
    "campanha = campanha.drop('y',axis=1)\n",
    "print(campanha.head())"
   ]
  },
  {
   "cell_type": "code",
   "execution_count": 204,
   "metadata": {},
   "outputs": [
    {
     "name": "stdout",
     "output_type": "stream",
     "text": [
      "   contact  month  day  duration\n",
      "0        0     10   19         1\n",
      "1        0      8   11         3\n",
      "2        0      0   16         3\n",
      "3        2      6    3         3\n",
      "4        2      8    5         3\n"
     ]
    }
   ],
   "source": [
    "contato = contato.drop('y',axis=1)\n",
    "print(contato.head())"
   ]
  },
  {
   "cell_type": "code",
   "execution_count": 205,
   "metadata": {},
   "outputs": [
    {
     "name": "stdout",
     "output_type": "stream",
     "text": [
      "   age  job  marital  education  default  housing  loan\n",
      "0    1   10        1          0        0        0     0\n",
      "1    1    7        1          1        0        1     1\n",
      "2    1    4        2          2        0        1     0\n",
      "3    1    4        1          2        0        1     1\n",
      "4    1    1        1          1        0        1     0\n"
     ]
    }
   ],
   "source": [
    "clientes = clientes.drop('y',axis=1)\n",
    "print(clientes.head())"
   ]
  },
  {
   "cell_type": "markdown",
   "metadata": {},
   "source": [
    "Concatenando os DataFrames"
   ]
  },
  {
   "cell_type": "code",
   "execution_count": 206,
   "metadata": {},
   "outputs": [],
   "source": [
    "banco = pd.concat([clientes,contato,campanha], axis = 1)"
   ]
  },
  {
   "cell_type": "code",
   "execution_count": 207,
   "metadata": {},
   "outputs": [
    {
     "name": "stdout",
     "output_type": "stream",
     "text": [
      "   age  job  marital  education  default  housing  loan  contact  month  day  \\\n",
      "0    1   10        1          0        0        0     0        0     10   19   \n",
      "1    1    7        1          1        0        1     1        0      8   11   \n",
      "2    1    4        2          2        0        1     0        0      0   16   \n",
      "3    1    4        1          2        0        1     1        2      6    3   \n",
      "4    1    1        1          1        0        1     0        2      8    5   \n",
      "\n",
      "   duration  campaign  pdays  previous  poutcome  \n",
      "0         1         1     -1         0         3  \n",
      "1         3         1    339         4         0  \n",
      "2         3         1    330         1         0  \n",
      "3         3         4     -1         0         3  \n",
      "4         3         1     -1         0         3  \n"
     ]
    }
   ],
   "source": [
    "print(banco.head())"
   ]
  },
  {
   "cell_type": "markdown",
   "metadata": {},
   "source": [
    "Separando numa amostra de treino e teste"
   ]
  },
  {
   "cell_type": "code",
   "execution_count": 208,
   "metadata": {},
   "outputs": [],
   "source": [
    "from sklearn.model_selection import train_test_split\n",
    "X_treino, X_teste, y_treino, y_teste = train_test_split(banco, resultado, test_size = 0.25, random_state = 101)"
   ]
  },
  {
   "cell_type": "code",
   "execution_count": 213,
   "metadata": {},
   "outputs": [],
   "source": [
    "from sklearn.preprocessing import StandardScaler\n",
    "sc = StandardScaler()\n",
    "X_treino = sc.fit_transform(X_treino)\n",
    "X_teste = sc.transform(X_teste)"
   ]
  },
  {
   "cell_type": "markdown",
   "metadata": {},
   "source": [
    "Importanto bibliotecas para determinar melhor modelo de previsão"
   ]
  },
  {
   "cell_type": "code",
   "execution_count": 216,
   "metadata": {},
   "outputs": [],
   "source": [
    "from sklearn.metrics import confusion_matrix, accuracy_score\n",
    "from sklearn.model_selection import KFold\n",
    "from sklearn.model_selection import cross_val_score\n",
    "k_fold = KFold(n_splits=10, shuffle=True, random_state=0)"
   ]
  },
  {
   "cell_type": "markdown",
   "metadata": {},
   "source": [
    "Utilizando modelo de regressão logistica"
   ]
  },
  {
   "cell_type": "code",
   "execution_count": 217,
   "metadata": {},
   "outputs": [],
   "source": [
    "from sklearn.linear_model import LogisticRegression\n",
    "logreg = LogisticRegression() \n",
    "logreg.fit(X_treino,y_treino)\n",
    "logpred = logreg.predict(X_teste)"
   ]
  },
  {
   "cell_type": "markdown",
   "metadata": {},
   "source": [
    "Exibindo matriz de confusão para o modelo de regressão logística"
   ]
  },
  {
   "cell_type": "code",
   "execution_count": 219,
   "metadata": {},
   "outputs": [
    {
     "name": "stdout",
     "output_type": "stream",
     "text": [
      "[[976  24]\n",
      " [109  22]]\n"
     ]
    }
   ],
   "source": [
    "matriz_logreg = confusion_matrix(y_teste, logpred)\n",
    "print(matriz_logreg)"
   ]
  },
  {
   "cell_type": "markdown",
   "metadata": {},
   "source": [
    "Determinando a acurácia do modelo de regressão logística"
   ]
  },
  {
   "cell_type": "code",
   "execution_count": 221,
   "metadata": {},
   "outputs": [
    {
     "name": "stdout",
     "output_type": "stream",
     "text": [
      "Acurácia Regressão Logística = 88.24%\n"
     ]
    }
   ],
   "source": [
    "acc_logreg = accuracy_score(y_teste, logpred)*100\n",
    "print(\"Acurácia Regressão Logística = {:0.2f}%\".format(acc_logreg))"
   ]
  },
  {
   "cell_type": "markdown",
   "metadata": {},
   "source": [
    "Validação cruzada Regressão logística"
   ]
  },
  {
   "cell_type": "code",
   "execution_count": 225,
   "metadata": {},
   "outputs": [
    {
     "name": "stdout",
     "output_type": "stream",
     "text": [
      "Cross-Validation = 88.53%\n"
     ]
    }
   ],
   "source": [
    "cv_logreg = (cross_val_score(logreg, X_treino, y_treino, cv=k_fold, n_jobs=1, scoring = 'accuracy').mean())\n",
    "print(\"Cross-Validation = {:0.2f}%\".format(cv_logreg*100))"
   ]
  },
  {
   "cell_type": "markdown",
   "metadata": {},
   "source": [
    "Utilizando modelo KNN para previsão"
   ]
  },
  {
   "cell_type": "code",
   "execution_count": 226,
   "metadata": {},
   "outputs": [],
   "source": [
    "from sklearn.neighbors import KNeighborsClassifier"
   ]
  },
  {
   "cell_type": "code",
   "execution_count": 254,
   "metadata": {},
   "outputs": [],
   "source": [
    "#número de vizinhos\n",
    "vizinhos = np.arange(0,35)"
   ]
  },
  {
   "cell_type": "code",
   "execution_count": 255,
   "metadata": {},
   "outputs": [
    {
     "name": "stdout",
     "output_type": "stream",
     "text": [
      "vizinhos=1 85.87 (+/- 1.76)\n",
      "vizinhos=2 88.85 (+/- 1.86)\n",
      "vizinhos=3 88.67 (+/- 2.00)\n",
      "vizinhos=4 88.82 (+/- 1.84)\n",
      "vizinhos=5 88.47 (+/- 1.76)\n",
      "vizinhos=6 88.76 (+/- 1.81)\n",
      "vizinhos=7 88.50 (+/- 1.85)\n",
      "vizinhos=8 88.70 (+/- 2.03)\n",
      "vizinhos=9 88.47 (+/- 1.73)\n",
      "vizinhos=10 88.79 (+/- 1.64)\n",
      "vizinhos=11 88.61 (+/- 1.83)\n",
      "vizinhos=12 88.64 (+/- 1.92)\n",
      "vizinhos=13 88.64 (+/- 1.87)\n",
      "vizinhos=14 88.70 (+/- 1.93)\n",
      "vizinhos=15 88.61 (+/- 1.90)\n",
      "vizinhos=16 88.67 (+/- 2.12)\n",
      "vizinhos=17 88.61 (+/- 2.12)\n",
      "vizinhos=18 88.67 (+/- 2.01)\n",
      "vizinhos=19 88.58 (+/- 2.07)\n",
      "vizinhos=20 88.61 (+/- 1.92)\n",
      "vizinhos=21 88.70 (+/- 2.04)\n",
      "vizinhos=22 88.79 (+/- 1.95)\n",
      "vizinhos=23 88.61 (+/- 1.96)\n",
      "vizinhos=24 88.76 (+/- 2.04)\n",
      "vizinhos=25 88.70 (+/- 2.00)\n",
      "vizinhos=26 88.82 (+/- 1.87)\n",
      "vizinhos=27 88.82 (+/- 1.94)\n",
      "vizinhos=28 88.82 (+/- 1.86)\n",
      "vizinhos=29 88.79 (+/- 1.94)\n",
      "vizinhos=30 88.85 (+/- 1.82)\n",
      "vizinhos=31 88.85 (+/- 1.92)\n",
      "vizinhos=32 88.79 (+/- 1.79)\n",
      "vizinhos=33 88.73 (+/- 1.87)\n",
      "vizinhos=34 88.76 (+/- 1.82)\n",
      "vizinhos=35 88.82 (+/- 1.85)\n"
     ]
    }
   ],
   "source": [
    "#Lista vazina para armazenar notas da validação cruzada\n",
    "notas_cv = []\n",
    "for k in vizinhos:\n",
    "    valor_k = k+1\n",
    "    knn = KNeighborsClassifier(n_neighbors = valor_k, weights='uniform', p=3, metric='minkowski')\n",
    "    kfold = KFold(n_splits=10, random_state=123)\n",
    "    notas = cross_val_score(knn, X_treino, y_treino, cv=kfold, scoring='accuracy')\n",
    "    notas_cv.append(notas.mean()*100)\n",
    "    print(\"vizinhos=%d %0.2f (+/- %0.2f)\" % (valor_k, notas.mean()*100, notas.std()*100))"
   ]
  },
  {
   "cell_type": "code",
   "execution_count": 256,
   "metadata": {},
   "outputs": [
    {
     "name": "stdout",
     "output_type": "stream",
     "text": [
      "30\n"
     ]
    }
   ],
   "source": [
    "#Determinando melhor valor de vizinhos\n",
    "melhor_k = vizinhos[notas_cv.index(max(notas_cv))] + 1\n",
    "print(melhor_k)"
   ]
  },
  {
   "cell_type": "code",
   "execution_count": 233,
   "metadata": {},
   "outputs": [
    {
     "data": {
      "image/png": "[encoded data removed]",
      "text/plain": [
       "<Figure size 432x288 with 1 Axes>"
      ]
     },
     "metadata": {
      "needs_background": "light"
     },
     "output_type": "display_data"
    }
   ],
   "source": [
    "plt.plot(vizinhos, notas_cv)\n",
    "plt.xlabel('Vizinhos')\n",
    "plt.ylabel('Acurácia do treino')\n",
    "plt.show()"
   ]
  },
  {
   "cell_type": "markdown",
   "metadata": {},
   "source": [
    "Utilizando modelo KNN com n=9"
   ]
  },
  {
   "cell_type": "code",
   "execution_count": 257,
   "metadata": {},
   "outputs": [],
   "source": [
    "knn = KNeighborsClassifier(n_neighbors=melhor_k, weights='uniform', p=3, metric='minkowski')\n",
    "knn.fit(X_treino, y_treino)\n",
    "knn_pred = knn.predict(X_teste)"
   ]
  },
  {
   "cell_type": "markdown",
   "metadata": {},
   "source": [
    "Matriz de confusão do modelo KNN"
   ]
  },
  {
   "cell_type": "code",
   "execution_count": 258,
   "metadata": {},
   "outputs": [
    {
     "name": "stdout",
     "output_type": "stream",
     "text": [
      "[[993   7]\n",
      " [125   6]]\n"
     ]
    }
   ],
   "source": [
    "matriz_knn = confusion_matrix(y_teste, knn_pred)\n",
    "print(matriz_knn)"
   ]
  },
  {
   "cell_type": "markdown",
   "metadata": {},
   "source": [
    "Validação cruzada KNN"
   ]
  },
  {
   "cell_type": "code",
   "execution_count": 259,
   "metadata": {},
   "outputs": [
    {
     "name": "stdout",
     "output_type": "stream",
     "text": [
      "Cross-Validation = 88.76%\n"
     ]
    }
   ],
   "source": [
    "cv_knn = (cross_val_score(knn, X_treino, y_treino, cv=k_fold, n_jobs=1, scoring = 'accuracy').mean())\n",
    "print(\"Cross-Validation = {:0.2f}%\".format(cv_knn*100))"
   ]
  },
  {
   "cell_type": "markdown",
   "metadata": {},
   "source": [
    "Utilizando modelo SVC para previsão"
   ]
  },
  {
   "cell_type": "code",
   "execution_count": 261,
   "metadata": {},
   "outputs": [],
   "source": [
    "from sklearn.svm import SVC\n",
    "svc= SVC(kernel = 'sigmoid')\n",
    "svc.fit(X_treino, y_treino)\n",
    "svc_pred = svc.predict(X_teste)"
   ]
  },
  {
   "cell_type": "markdown",
   "metadata": {},
   "source": [
    "Matriz de confusão do modelo SVC"
   ]
  },
  {
   "cell_type": "code",
   "execution_count": 262,
   "metadata": {},
   "outputs": [
    {
     "name": "stdout",
     "output_type": "stream",
     "text": [
      "[[949  51]\n",
      " [ 95  36]]\n"
     ]
    }
   ],
   "source": [
    "matriz_svc = confusion_matrix(y_teste, svc_pred)\n",
    "print(matriz_svc)"
   ]
  },
  {
   "cell_type": "markdown",
   "metadata": {},
   "source": [
    "Validação utilizando SVC"
   ]
  },
  {
   "cell_type": "code",
   "execution_count": 263,
   "metadata": {},
   "outputs": [
    {
     "name": "stdout",
     "output_type": "stream",
     "text": [
      "Cross-Validation = 84.66%\n"
     ]
    }
   ],
   "source": [
    "cv_svc = (cross_val_score(svc, X_treino, y_treino, cv=k_fold, n_jobs=1, scoring = 'accuracy').mean())\n",
    "print(\"Cross-Validation = {:0.2f}%\".format(cv_svc*100))"
   ]
  },
  {
   "cell_type": "markdown",
   "metadata": {},
   "source": [
    "Utilizando modelo DecisionTreeClassifier (DTE) para previsão"
   ]
  },
  {
   "cell_type": "code",
   "execution_count": 268,
   "metadata": {},
   "outputs": [],
   "source": [
    "from sklearn.tree import DecisionTreeClassifier\n",
    "dte = DecisionTreeClassifier(criterion='entropy') #criterion = entopy, gini\n",
    "dte.fit(X_treino, y_treino)\n",
    "dte_pred = dte.predict(X_teste)"
   ]
  },
  {
   "cell_type": "markdown",
   "metadata": {},
   "source": [
    "Matriz de confusão do modelo DTE"
   ]
  },
  {
   "cell_type": "code",
   "execution_count": 269,
   "metadata": {},
   "outputs": [
    {
     "name": "stdout",
     "output_type": "stream",
     "text": [
      "[[921  79]\n",
      " [ 71  60]]\n"
     ]
    }
   ],
   "source": [
    "matriz_dte = confusion_matrix(y_teste, dte_pred)\n",
    "print(matriz_dte)"
   ]
  },
  {
   "cell_type": "markdown",
   "metadata": {},
   "source": [
    "Validação utilizando DTE"
   ]
  },
  {
   "cell_type": "code",
   "execution_count": 270,
   "metadata": {},
   "outputs": [
    {
     "name": "stdout",
     "output_type": "stream",
     "text": [
      "Cross-Validation = 86.43%\n"
     ]
    }
   ],
   "source": [
    "cv_dte = (cross_val_score(dte, X_treino, y_treino, cv=k_fold, n_jobs=1, scoring = 'accuracy').mean())\n",
    "print(\"Cross-Validation = {:0.2f}%\".format(cv_dte*100))"
   ]
  },
  {
   "cell_type": "markdown",
   "metadata": {},
   "source": [
    "Utilizando modelo RandomForestClassifier (RFC) para previsão"
   ]
  },
  {
   "cell_type": "code",
   "execution_count": 278,
   "metadata": {},
   "outputs": [],
   "source": [
    "from sklearn.ensemble import RandomForestClassifier\n",
    "rfc = RandomForestClassifier(n_estimators = 250,criterion='gini')#criterion = entopy,gini\n",
    "rfc.fit(X_treino, y_treino)\n",
    "rfc_pred = rfc.predict(X_teste)"
   ]
  },
  {
   "cell_type": "markdown",
   "metadata": {},
   "source": [
    "Matriz de confusão do modelo RFC"
   ]
  },
  {
   "cell_type": "code",
   "execution_count": 279,
   "metadata": {},
   "outputs": [
    {
     "name": "stdout",
     "output_type": "stream",
     "text": [
      "[[972  28]\n",
      " [ 99  32]]\n"
     ]
    }
   ],
   "source": [
    "matriz_rfc = confusion_matrix(y_teste, rfc_pred)\n",
    "print(matriz_rfc)"
   ]
  },
  {
   "cell_type": "markdown",
   "metadata": {},
   "source": [
    "Validação utilizando RFC"
   ]
  },
  {
   "cell_type": "code",
   "execution_count": 280,
   "metadata": {},
   "outputs": [
    {
     "name": "stdout",
     "output_type": "stream",
     "text": [
      "Cross-Validation = 89.68%\n"
     ]
    }
   ],
   "source": [
    "cv_rfc = (cross_val_score(rfc, X_treino, y_treino, cv=k_fold, n_jobs=1, scoring = 'accuracy').mean())\n",
    "print(\"Cross-Validation = {:0.2f}%\".format(cv_rfc*100))"
   ]
  },
  {
   "cell_type": "markdown",
   "metadata": {},
   "source": [
    "Utilizando modelo GaussianNB (GNB) para previsão"
   ]
  },
  {
   "cell_type": "code",
   "execution_count": 281,
   "metadata": {},
   "outputs": [],
   "source": [
    "from sklearn.naive_bayes import GaussianNB\n",
    "gnb= GaussianNB()\n",
    "gnb.fit(X_treino, y_treino)\n",
    "gnb_pred = gnb.predict(X_teste)"
   ]
  },
  {
   "cell_type": "markdown",
   "metadata": {},
   "source": [
    "Matriz de confusão do modelo GNB"
   ]
  },
  {
   "cell_type": "code",
   "execution_count": 282,
   "metadata": {},
   "outputs": [
    {
     "name": "stdout",
     "output_type": "stream",
     "text": [
      "[[901  99]\n",
      " [ 89  42]]\n"
     ]
    }
   ],
   "source": [
    "matriz_gnb = confusion_matrix(y_teste, gnb_pred)\n",
    "print(matriz_gnb)"
   ]
  },
  {
   "cell_type": "markdown",
   "metadata": {},
   "source": [
    "Validação utilizando GNB"
   ]
  },
  {
   "cell_type": "code",
   "execution_count": 285,
   "metadata": {},
   "outputs": [
    {
     "name": "stdout",
     "output_type": "stream",
     "text": [
      "Cross-Validation = 83.98%\n"
     ]
    }
   ],
   "source": [
    "cv_gnb = (cross_val_score(gnb, X_treino, y_treino, cv=k_fold, n_jobs=1, scoring = 'accuracy').mean())\n",
    "print(\"Cross-Validation = {:0.2f}%\".format(cv_gnb*100))"
   ]
  },
  {
   "cell_type": "markdown",
   "metadata": {},
   "source": [
    "Utilizando modelo XGBClassifier (XGB) para previsão"
   ]
  },
  {
   "cell_type": "code",
   "execution_count": 286,
   "metadata": {},
   "outputs": [],
   "source": [
    "from xgboost import XGBClassifier\n",
    "xgb = XGBClassifier()\n",
    "xgb.fit(X_treino, y_treino)\n",
    "xgb_pred = xgb.predict(X_teste)"
   ]
  },
  {
   "cell_type": "markdown",
   "metadata": {},
   "source": [
    "Matriz de confusão do modelo XGB"
   ]
  },
  {
   "cell_type": "code",
   "execution_count": 287,
   "metadata": {},
   "outputs": [
    {
     "name": "stdout",
     "output_type": "stream",
     "text": [
      "[[976  24]\n",
      " [ 97  34]]\n"
     ]
    }
   ],
   "source": [
    "matriz_xgb = confusion_matrix(y_teste, xgb_pred)\n",
    "print(matriz_xgb)"
   ]
  },
  {
   "cell_type": "markdown",
   "metadata": {},
   "source": [
    "Validação utilizando XGB"
   ]
  },
  {
   "cell_type": "code",
   "execution_count": 288,
   "metadata": {},
   "outputs": [
    {
     "name": "stdout",
     "output_type": "stream",
     "text": [
      "Cross-Validation = 89.97%\n"
     ]
    }
   ],
   "source": [
    "cv_xgb = (cross_val_score(xgb, X_treino, y_treino, cv=k_fold, n_jobs=1, scoring = 'accuracy').mean())\n",
    "print(\"Cross-Validation = {:0.2f}%\".format(cv_xgb*100))"
   ]
  },
  {
   "cell_type": "markdown",
   "metadata": {},
   "source": [
    "Utilizando modelo GradientBoostingClassifier (GBC) para previsão"
   ]
  },
  {
   "cell_type": "code",
   "execution_count": 289,
   "metadata": {},
   "outputs": [],
   "source": [
    "from sklearn.ensemble import GradientBoostingClassifier\n",
    "gbc = GradientBoostingClassifier()\n",
    "gbc.fit(X_treino, y_treino)\n",
    "gbc_pred = gbc.predict(X_teste)"
   ]
  },
  {
   "cell_type": "markdown",
   "metadata": {},
   "source": [
    "Matriz de confusão do modelo GBC"
   ]
  },
  {
   "cell_type": "code",
   "execution_count": 290,
   "metadata": {},
   "outputs": [
    {
     "name": "stdout",
     "output_type": "stream",
     "text": [
      "[[974  26]\n",
      " [ 87  44]]\n"
     ]
    }
   ],
   "source": [
    "matriz_gbc = confusion_matrix(y_teste, gbc_pred)\n",
    "print(matriz_gbc)"
   ]
  },
  {
   "cell_type": "markdown",
   "metadata": {},
   "source": [
    "Validação utilizando GBC"
   ]
  },
  {
   "cell_type": "code",
   "execution_count": 291,
   "metadata": {},
   "outputs": [
    {
     "name": "stdout",
     "output_type": "stream",
     "text": [
      "Cross-Validation = 90.21%\n"
     ]
    }
   ],
   "source": [
    "cv_gbc = (cross_val_score(gbc, X_treino, y_treino, cv=k_fold, n_jobs=1, scoring = 'accuracy').mean())\n",
    "print(\"Cross-Validation = {:0.2f}%\".format(cv_gbc*100))"
   ]
  },
  {
   "cell_type": "markdown",
   "metadata": {},
   "source": [
    "Armazenando resultados num DataFrame"
   ]
  },
  {
   "cell_type": "code",
   "execution_count": 292,
   "metadata": {},
   "outputs": [],
   "source": [
    "modelos = pd.DataFrame({'Modelos': ['Random Forest Classifier', 'Decision Tree Classifier', 'Support Vector Machine',\n",
    "                           'K-Near Neighbors', 'Logistic Model', 'Gausian NB', 'XGBoost', 'Gradient Boosting'],\n",
    "                'Score':  [cv_rfc, cv_dte, cv_svc, cv_knn, cv_logreg, cv_gnb, cv_xgb, cv_gbc]})"
   ]
  },
  {
   "cell_type": "code",
   "execution_count": 293,
   "metadata": {},
   "outputs": [
    {
     "data": {
      "text/html": [
       "<div>\n",
       "<style scoped>\n",
       "    .dataframe tbody tr th:only-of-type {\n",
       "        vertical-align: middle;\n",
       "    }\n",
       "\n",
       "    .dataframe tbody tr th {\n",
       "        vertical-align: top;\n",
       "    }\n",
       "\n",
       "    .dataframe thead th {\n",
       "        text-align: right;\n",
       "    }\n",
       "</style>\n",
       "<table border=\"1\" class=\"dataframe\">\n",
       "  <thead>\n",
       "    <tr style=\"text-align: right;\">\n",
       "      <th></th>\n",
       "      <th>Modelos</th>\n",
       "      <th>Score</th>\n",
       "    </tr>\n",
       "  </thead>\n",
       "  <tbody>\n",
       "    <tr>\n",
       "      <th>7</th>\n",
       "      <td>Gradient Boosting</td>\n",
       "      <td>0.902065</td>\n",
       "    </tr>\n",
       "    <tr>\n",
       "      <th>6</th>\n",
       "      <td>XGBoost</td>\n",
       "      <td>0.899705</td>\n",
       "    </tr>\n",
       "    <tr>\n",
       "      <th>0</th>\n",
       "      <td>Random Forest Classifier</td>\n",
       "      <td>0.896755</td>\n",
       "    </tr>\n",
       "    <tr>\n",
       "      <th>3</th>\n",
       "      <td>K-Near Neighbors</td>\n",
       "      <td>0.887611</td>\n",
       "    </tr>\n",
       "    <tr>\n",
       "      <th>4</th>\n",
       "      <td>Logistic Model</td>\n",
       "      <td>0.885251</td>\n",
       "    </tr>\n",
       "    <tr>\n",
       "      <th>1</th>\n",
       "      <td>Decision Tree Classifier</td>\n",
       "      <td>0.864307</td>\n",
       "    </tr>\n",
       "    <tr>\n",
       "      <th>2</th>\n",
       "      <td>Support Vector Machine</td>\n",
       "      <td>0.846608</td>\n",
       "    </tr>\n",
       "    <tr>\n",
       "      <th>5</th>\n",
       "      <td>Gausian NB</td>\n",
       "      <td>0.839823</td>\n",
       "    </tr>\n",
       "  </tbody>\n",
       "</table>\n",
       "</div>"
      ],
      "text/plain": [
       "                    Modelos     Score\n",
       "7         Gradient Boosting  0.902065\n",
       "6                   XGBoost  0.899705\n",
       "0  Random Forest Classifier  0.896755\n",
       "3          K-Near Neighbors  0.887611\n",
       "4            Logistic Model  0.885251\n",
       "1  Decision Tree Classifier  0.864307\n",
       "2    Support Vector Machine  0.846608\n",
       "5                Gausian NB  0.839823"
      ]
     },
     "execution_count": 293,
     "metadata": {},
     "output_type": "execute_result"
    }
   ],
   "source": [
    "modelos.sort_values(by='Score', ascending=False)"
   ]
  },
  {
   "cell_type": "markdown",
   "metadata": {},
   "source": [
    "# Relatório "
   ]
  },
  {
   "cell_type": "markdown",
   "metadata": {},
   "source": [
    "Os dados mostram que os clientes tem idade entre 19 e 87 anos, com uma idade média de 41.2 anos e um desvio padrão de 10.6 anos. Da distribuição de idades, verificou-se que clientes com mais de 73 anos são considerados outliers, o que corresponde a 0.84% dos clientes. \n",
    "\n",
    "Os clientes que trabalham como blue-collar são os que mais recusaram as propostas de empréstimo, enquanto que os que ocupam posição de gerenciamento aceitam mais propostas. Os clientes casados, receberam e aceitaram mais propostas de empréstimos o que sugere que clientes casados tem mais responsabilidade. Os clientes que possuem apenas ensino médio receberam mais propostas e este mesmo grupo junto com os que possuem ensino superior aceitaram mais empréstimos, indicando que clientes com ensino superior são um bom alvo para ligações. Clientes que não possuíam crédito inicial receberam mais propostas e também tiver um maior índice de aceitação e já a grande maioria dos que possuíam crédito inicial recusaram a oferta. Clientes que possuem imóvel receberam mais propostas, porém os que não possuem aceitaram mais as ofertas. Os clientes que já haviam feito um empréstimo anteriormente aceitaram menos propostas em relação aos que não tinham empréstimo anterior e o grupo dos clientes sem empréstimo anterior é um alvo melhor.\n",
    "\n",
    "As chamadas telefónicas tiveram uma duração média de 4.4 minutos e um desvio padrão de 4.3 minutos. A chamada com maior duração teve 50.4 minutos. Chamadas com duração superior a 11.1 minutos são outliers. Os clientes que receberam ligações em seus celulares aceitaram mais propostas. \n",
    "\n",
    "O mês de maio foi o que mais teve propostas porém juntamente com o mês de agosto foram os que tiveram mais aceitações porém os dados nos mostram que agosto é o melhor mês para se ligar para o cliente, sendo que a ligação deve ocorrer preferencialmente no inicio da segunda metade do mês. \n",
    "\n",
    "Os clientes que não se sabe se aderiram a empréstimo na campanha anterior aceitaram mais propostas e nota-se que houve um aumento de aceitação daqueles que haviam recusado a proposta anterior. \n",
    "\n",
    "Utilizou-se diferentes modelos de classificação para prever se um cliente irá ou não fazer um empréstimo e de todos estes modelos o Gradiente Boosting apresentou melhor performance junto o modelo XGBoost. "
   ]
  },
  {
   "cell_type": "markdown",
   "metadata": {},
   "source": [
    "Análise realizada por Danilo Morales Teixeira\n",
    "\n",
    "São Paulo, 16/06/2019"
   ]
  }
 ],
 "metadata": {
  "kernelspec": {
   "display_name": "Python 3",
   "language": "python",
   "name": "python3"
  },
  "language_info": {
   "codemirror_mode": {
    "name": "ipython",
    "version": 3
   },
   "file_extension": ".py",
   "mimetype": "text/x-python",
   "name": "python",
   "nbconvert_exporter": "python",
   "pygments_lexer": "ipython3",
   "version": "3.7.3"
  }
 },
 "nbformat": 4,
 "nbformat_minor": 2
}
